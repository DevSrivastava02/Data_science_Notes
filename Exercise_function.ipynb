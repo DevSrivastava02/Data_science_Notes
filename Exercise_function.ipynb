{
 "cells": [
  {
   "cell_type": "markdown",
   "id": "b21ba30e",
   "metadata": {},
   "source": [
    "Function Example"
   ]
  },
  {
   "cell_type": "code",
   "execution_count": 4,
   "id": "d5d71c34",
   "metadata": {},
   "outputs": [
    {
     "data": {
      "text/plain": [
       "77.0"
      ]
     },
     "execution_count": 4,
     "metadata": {},
     "output_type": "execute_result"
    }
   ],
   "source": [
    "# Temperature Conversion:\n",
    "def temp_convertor(temp,unit):\n",
    "    \"\"\"\"this function convert the temp Between celcuis and fahraenheit\"\"\"\n",
    "\n",
    "    if (unit==\"c\") or (unit==\"C\"):\n",
    "        return (temp * 9/5)+32 # Celsuis TO fehrenheit:\n",
    "    elif (unit==\"f\") or (unit==\"F\"):\n",
    "        return (temp-32) * 5/9  # Fehrenheit TO celsuis:\n",
    "    else:\n",
    "        return \"Choice correct unit (C) or (F)\"  \n",
    "temp_convertor(25,\"c\")             "
   ]
  },
  {
   "cell_type": "markdown",
   "id": "08bdb597",
   "metadata": {},
   "source": [
    "<!--  -->"
   ]
  },
  {
   "cell_type": "markdown",
   "id": "34307ef7",
   "metadata": {},
   "source": [
    "# Password Strength checker"
   ]
  },
  {
   "cell_type": "markdown",
   "id": "d2f199e8",
   "metadata": {},
   "source": [
    "<!-- Password Strength checker -->"
   ]
  },
  {
   "cell_type": "code",
   "execution_count": null,
   "id": "d7211a50",
   "metadata": {},
   "outputs": [
    {
     "data": {
      "text/plain": [
       "False"
      ]
     },
     "execution_count": 8,
     "metadata": {},
     "output_type": "execute_result"
    }
   ],
   "source": [
    "def is_Strong_password(password):\n",
    "    \"\"\"\"This function check of the password is dtrong or not\"\"\"\n",
    "    if len(password)<8:\n",
    "        return False\n",
    "    if not any( char.isdigit() for char in password):# isdigit help to know any number is present is it or not\n",
    "        return False\n",
    "    if not any(char.islower() for char in password):\n",
    "        return False\n",
    "    if not any(char.isupper() for char in password):\n",
    "        return False\n",
    "    if not any(char in \"!@#$%^&*()_+\" for char in password):\n",
    "        return False\n",
    "    return True\n",
    "# Call the function\n",
    "is_Strong_password(\"HH\")\n",
    "    \n"
   ]
  },
  {
   "cell_type": "markdown",
   "id": "abe35b51",
   "metadata": {},
   "source": [
    "# Calculate the total Cost of item in a Shopping Card:\n"
   ]
  },
  {
   "cell_type": "code",
   "execution_count": 14,
   "id": "d6f0b6dc",
   "metadata": {},
   "outputs": [
    {
     "data": {
      "text/plain": [
       "5.8999999999999995"
      ]
     },
     "execution_count": 14,
     "metadata": {},
     "output_type": "execute_result"
    }
   ],
   "source": [
    "def calculate_total_Cost(cost):\n",
    "    total_cost=0\n",
    "    for item in card:\n",
    "        total_cost=total_cost+item[\"Price\"]*item[\"Quantity\"]\n",
    "    return total_cost    \n",
    "\n",
    "# Example card data:\n",
    "card=[{\"Name\":\"Apple\",\"Price\":0.5,\"Quantity\":4},\n",
    "    {\"Name\":\"Banana\",\"Price\":0.3,\"Quantity\":6},\n",
    "    {\"Name\":\"Orange\",\"Price\":0.7,\"Quantity\":3}]\n",
    "\n",
    "# Calling the function:\n",
    "\n",
    "calculate_total_Cost(card)\n"
   ]
  },
  {
   "cell_type": "markdown",
   "id": "82c40520",
   "metadata": {},
   "source": [
    "# Check if a String is Palindrome:"
   ]
  },
  {
   "cell_type": "code",
   "execution_count": 16,
   "id": "6e763ef4",
   "metadata": {},
   "outputs": [
    {
     "name": "stdout",
     "output_type": "stream",
     "text": [
      "True\n"
     ]
    }
   ],
   "source": [
    "#  Palinarone are like ABA=ABA:\n",
    "def check_palimarone(s):\n",
    "    s=s.lower().replace(\" \",\"\")\n",
    "    return s==s[::-1]\n",
    "\n",
    "print(check_palimarone(\"A man a plan a canal panama\"))"
   ]
  },
  {
   "cell_type": "markdown",
   "id": "6dd6f1fa",
   "metadata": {},
   "source": [
    "# Calculate the factorial of a number using recursion:\n"
   ]
  },
  {
   "cell_type": "code",
   "execution_count": 17,
   "id": "0a1f84fe",
   "metadata": {},
   "outputs": [
    {
     "data": {
      "text/plain": [
       "120"
      ]
     },
     "execution_count": 17,
     "metadata": {},
     "output_type": "execute_result"
    }
   ],
   "source": [
    "def fact(number):\n",
    "    if number==1:\n",
    "        return 1\n",
    "    return number*fact(number-1)\n",
    "\n",
    "fact(5)"
   ]
  },
  {
   "cell_type": "code",
   "execution_count": 21,
   "id": "bd25640c",
   "metadata": {},
   "outputs": [
    {
     "name": "stdout",
     "output_type": "stream",
     "text": [
      "{'hello': 1, 'my': 1, 'name': 2, 'is': 1, 'dev': 1, 'srivastava': 1, 'what': 1, 'was': 1, 'your': 1} "
     ]
    }
   ],
   "source": [
    "def count_word_frequency(fielpaht):\n",
    "    word_count={}\n",
    "    with open(fielpaht,\"r\")as file:\n",
    "        for line in file:\n",
    "            words=line.split()\n",
    "            for word in words:\n",
    "                word=word.lower().strip(\".,!@#$%^&*:/'\") \n",
    "                word_count[word]=word_count.get(word,0)+1\n",
    "        return word_count         \n",
    "            \n",
    "filepath=\"sample.txt\"\n",
    "\n",
    "count_words=count_word_frequency(filepath)\n",
    "print(count_words,end=\" \")"
   ]
  }
 ],
 "metadata": {
  "kernelspec": {
   "display_name": "base",
   "language": "python",
   "name": "python3"
  },
  "language_info": {
   "codemirror_mode": {
    "name": "ipython",
    "version": 3
   },
   "file_extension": ".py",
   "mimetype": "text/x-python",
   "name": "python",
   "nbconvert_exporter": "python",
   "pygments_lexer": "ipython3",
   "version": "3.13.5"
  }
 },
 "nbformat": 4,
 "nbformat_minor": 5
}
