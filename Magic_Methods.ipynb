{
 "cells": [
  {
   "cell_type": "markdown",
   "id": "1a2a1853",
   "metadata": {},
   "source": [
    "Magic Methods"
   ]
  },
  {
   "cell_type": "markdown",
   "id": "b661a620",
   "metadata": {},
   "source": [
    "Magic methods in python also know as dunder methods (Double underscore methods) are special methods the start and end with diuble underscores. These methods enable you to define the behavior of object for built -in -operation ,such as arithmetic operation comparisons and more"
   ]
  },
  {
   "cell_type": "markdown",
   "id": "1e38fc05",
   "metadata": {},
   "source": [
    "Magic methods are predefine methods in python that you can override to chenges the behavior of your objects .SOme common magic methods include:"
   ]
  },
  {
   "cell_type": "code",
   "execution_count": 1,
   "id": "68a96e67",
   "metadata": {},
   "outputs": [
    {
     "data": {
      "text/plain": [
       "' __init__: Intitialize a new instance of a class\\n__str__: Return a string representation of an object.\\n__repr__: Return an offical string representation of an object\\n__len__: Return the length of an object.\\n__getitem__:Gets an item from a container.\\n__setitem__:SEts an item in a container'"
      ]
     },
     "execution_count": 1,
     "metadata": {},
     "output_type": "execute_result"
    }
   ],
   "source": [
    "\"\"\" __init__: Intitialize a new instance of a class\n",
    "__str__: Return a string representation of an object.\n",
    "__repr__: Return an offical string representation of an object\n",
    "__len__: Return the length of an object.\n",
    "__getitem__:Gets an item from a container.\n",
    "__setitem__:SEts an item in a container\"\"\""
   ]
  },
  {
   "cell_type": "code",
   "execution_count": 3,
   "id": "c937bde1",
   "metadata": {},
   "outputs": [
    {
     "name": "stdout",
     "output_type": "stream",
     "text": [
      "<class '__main__.Person'>\n"
     ]
    }
   ],
   "source": [
    "class Person:\n",
    "    pass\n",
    "\n",
    "person=Person\n",
    "dir(person)\n",
    "\n",
    "print(person)"
   ]
  },
  {
   "cell_type": "code",
   "execution_count": 5,
   "id": "19d89539",
   "metadata": {},
   "outputs": [
    {
     "name": "stdout",
     "output_type": "stream",
     "text": [
      "Dev,21 Year old\n"
     ]
    }
   ],
   "source": [
    "# Basic magic mehtods\n",
    "class Person:\n",
    "    def __init__(self,name,age):\n",
    "        self.name=name\n",
    "        self.age=age\n",
    "\n",
    "    def __str__(self):\n",
    "        return f\"{self.name},{self.age} Year old\"    \n",
    "\n",
    "person=Person(\"Dev\",21)\n",
    "print(person)"
   ]
  }
 ],
 "metadata": {
  "kernelspec": {
   "display_name": "base",
   "language": "python",
   "name": "python3"
  },
  "language_info": {
   "codemirror_mode": {
    "name": "ipython",
    "version": 3
   },
   "file_extension": ".py",
   "mimetype": "text/x-python",
   "name": "python",
   "nbconvert_exporter": "python",
   "pygments_lexer": "ipython3",
   "version": "3.13.5"
  }
 },
 "nbformat": 4,
 "nbformat_minor": 5
}
