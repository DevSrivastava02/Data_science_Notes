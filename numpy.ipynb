{
 "cells": [
  {
   "cell_type": "markdown",
   "id": "0dbee871",
   "metadata": {},
   "source": [
    "Numpy"
   ]
  },
  {
   "cell_type": "markdown",
   "id": "9f1d15aa",
   "metadata": {},
   "source": [
    "Numpy is a fundamental library for scientific computer in python. its provide support for array and matrrics, along with acollection of mathmatical function to operate on these data structure in this lesson ,we will cover the basic of Numpy. focusing on array and vectorized operation"
   ]
  },
  {
   "cell_type": "markdown",
   "id": "c85dfda5",
   "metadata": {},
   "source": [
    "pip install numpy"
   ]
  },
  {
   "cell_type": "code",
   "execution_count": 2,
   "id": "f5850791",
   "metadata": {},
   "outputs": [],
   "source": [
    "import numpy as np"
   ]
  },
  {
   "cell_type": "code",
   "execution_count": 3,
   "id": "452bd009",
   "metadata": {},
   "outputs": [
    {
     "data": {
      "text/plain": [
       "array([1, 2, 3, 4, 5])"
      ]
     },
     "execution_count": 3,
     "metadata": {},
     "output_type": "execute_result"
    }
   ],
   "source": [
    "#  Create the 1 D array:\n",
    "arr=np.array([1,2,3,4,5])\n",
    "arr"
   ]
  },
  {
   "cell_type": "code",
   "execution_count": 4,
   "id": "6de1b59a",
   "metadata": {},
   "outputs": [
    {
     "name": "stdout",
     "output_type": "stream",
     "text": [
      "(5,)\n",
      "1\n"
     ]
    }
   ],
   "source": [
    "print(arr.shape)\n",
    "print(arr.ndim)\n"
   ]
  },
  {
   "cell_type": "code",
   "execution_count": 5,
   "id": "36fbe57b",
   "metadata": {},
   "outputs": [
    {
     "data": {
      "text/plain": [
       "(5,)"
      ]
     },
     "execution_count": 5,
     "metadata": {},
     "output_type": "execute_result"
    }
   ],
   "source": [
    "#  2D array\n",
    "arr2=np.array([1,2,3,4,5])\n",
    "arr2.reshape([1,5])\n",
    "arr2.shape"
   ]
  },
  {
   "cell_type": "code",
   "execution_count": 6,
   "id": "97511672",
   "metadata": {},
   "outputs": [
    {
     "name": "stdout",
     "output_type": "stream",
     "text": [
      "(2, 5)\n"
     ]
    },
    {
     "data": {
      "text/plain": [
       "array([[1, 2, 3, 4, 5],\n",
       "       [2, 3, 4, 5, 6]])"
      ]
     },
     "execution_count": 6,
     "metadata": {},
     "output_type": "execute_result"
    }
   ],
   "source": [
    "arr2=np.array([[1,2,3,4,5],[2,3,4,5,6]])\n",
    "print(arr2.shape)\n",
    "arr2"
   ]
  },
  {
   "cell_type": "code",
   "execution_count": 7,
   "id": "34714439",
   "metadata": {},
   "outputs": [
    {
     "data": {
      "text/plain": [
       "array([[0],\n",
       "       [2],\n",
       "       [4],\n",
       "       [6],\n",
       "       [8]])"
      ]
     },
     "execution_count": 7,
     "metadata": {},
     "output_type": "execute_result"
    }
   ],
   "source": [
    "np.arange(0,10,2).reshape(5,1)"
   ]
  },
  {
   "cell_type": "code",
   "execution_count": 8,
   "id": "c351bb96",
   "metadata": {},
   "outputs": [
    {
     "data": {
      "text/plain": [
       "array([[1., 1., 1., 1., 1.],\n",
       "       [1., 1., 1., 1., 1.],\n",
       "       [1., 1., 1., 1., 1.]])"
      ]
     },
     "execution_count": 8,
     "metadata": {},
     "output_type": "execute_result"
    }
   ],
   "source": [
    "#  Create the matrix of 1 \n",
    "np.ones((3,5))"
   ]
  },
  {
   "cell_type": "code",
   "execution_count": 9,
   "id": "64bb4f22",
   "metadata": {},
   "outputs": [
    {
     "data": {
      "text/plain": [
       "array([[1., 0., 0.],\n",
       "       [0., 1., 0.],\n",
       "       [0., 0., 1.]])"
      ]
     },
     "execution_count": 9,
     "metadata": {},
     "output_type": "execute_result"
    }
   ],
   "source": [
    "#  Create the identity matrix:\n",
    "np.eye(3)"
   ]
  },
  {
   "cell_type": "code",
   "execution_count": 10,
   "id": "58348081",
   "metadata": {},
   "outputs": [
    {
     "name": "stdout",
     "output_type": "stream",
     "text": [
      "Addition operation [11 22 33 44 55]\n",
      "Subtraction Operation [ -9 -18 -27 -36 -45]\n",
      "Multiplication Operation [ 10  40  90 160 250]\n",
      "Division Operation [0.1 0.1 0.1 0.1 0.1]\n"
     ]
    }
   ],
   "source": [
    "#  Numpy vectorized Operation:\n",
    "arr1=np.array([1,2,3,4,5])\n",
    "arr2=np.array([10,20,30,40,50])\n",
    "\n",
    "# Element Wise Addition:\n",
    "print(\"Addition operation\",arr1+arr2)\n",
    "\n",
    "# Ele,emt wise Subtraction:\n",
    "print(\"Subtraction Operation\",arr1-arr2)\n",
    "\n",
    "# Element Wise Multiplication:\n",
    "\n",
    "print(\"Multiplication Operation\",arr1*arr2)\n",
    "\n",
    "# Element Wise Division:\n",
    "\n",
    "print(\"Division Operation\",arr1/arr2)\n",
    "# "
   ]
  },
  {
   "cell_type": "code",
   "execution_count": 11,
   "id": "671c7da4",
   "metadata": {},
   "outputs": [
    {
     "name": "stdout",
     "output_type": "stream",
     "text": [
      "[1.         1.41421356 1.73205081 2.         2.23606798 2.44948974]\n",
      "[  2.71828183   7.3890561   20.08553692  54.59815003 148.4131591\n",
      " 403.42879349]\n",
      "[ 0.84147098  0.90929743  0.14112001 -0.7568025  -0.95892427 -0.2794155 ]\n",
      "[0.         0.69314718 1.09861229 1.38629436 1.60943791 1.79175947]\n"
     ]
    }
   ],
   "source": [
    "#  Iniversal Function\n",
    "\n",
    "arr=np.array([1,2,3,4,5,6])\n",
    "\n",
    "# square root\n",
    "print(np.sqrt(arr))\n",
    "\n",
    "# Exponential:\n",
    "print(np.exp(arr))\n",
    "\n",
    "# Sine\n",
    "print(np.sin(arr))\n",
    "\n",
    "# Log:\n",
    "print(np.log(arr))"
   ]
  },
  {
   "cell_type": "code",
   "execution_count": 12,
   "id": "4cb1b388",
   "metadata": {},
   "outputs": [
    {
     "name": "stdout",
     "output_type": "stream",
     "text": [
      "Array:\n",
      " [[1 2 3 4]\n",
      " [5 6 7 8]\n",
      " [7 8 9 0]]\n"
     ]
    }
   ],
   "source": [
    "#  Sclining array and Indexing:\n",
    "arr=np.array([[1,2,3,4,],[5,6,7,8],[7,8,9,0]])\n",
    "print(\"Array:\\n\",arr)"
   ]
  },
  {
   "cell_type": "code",
   "execution_count": 13,
   "id": "77642455",
   "metadata": {},
   "outputs": [
    {
     "name": "stdout",
     "output_type": "stream",
     "text": [
      "7\n",
      "[[3 4]\n",
      " [7 8]]\n",
      "[[6 7]\n",
      " [8 9]]\n"
     ]
    }
   ],
   "source": [
    "print(arr[1][2])\n",
    "#  first show row and secound are show columne\n",
    "print(arr[0:2 ,2:])\n",
    "\n",
    "print(arr[1: ,1:3])"
   ]
  },
  {
   "cell_type": "code",
   "execution_count": 14,
   "id": "b96e955d",
   "metadata": {},
   "outputs": [
    {
     "data": {
      "text/plain": [
       "array([[7, 8],\n",
       "       [9, 0]])"
      ]
     },
     "execution_count": 14,
     "metadata": {},
     "output_type": "execute_result"
    }
   ],
   "source": [
    "arr[1: ,2:]"
   ]
  },
  {
   "cell_type": "code",
   "execution_count": 15,
   "id": "01b3bc91",
   "metadata": {},
   "outputs": [
    {
     "name": "stdout",
     "output_type": "stream",
     "text": [
      "[[100   2   3   4]\n",
      " [  5   6   7   8]\n",
      " [  7   8   9   0]]\n"
     ]
    }
   ],
   "source": [
    "#  Modify the array elements:\n",
    "arr[0,0]=100\n",
    "print(arr)"
   ]
  },
  {
   "cell_type": "code",
   "execution_count": 16,
   "id": "67d3b462",
   "metadata": {},
   "outputs": [
    {
     "data": {
      "text/plain": [
       "array([[100,   2,   3,   4],\n",
       "       [100, 100, 100, 100],\n",
       "       [100, 100, 100, 100]])"
      ]
     },
     "execution_count": 16,
     "metadata": {},
     "output_type": "execute_result"
    }
   ],
   "source": [
    "arr[1:]=100\n",
    "arr"
   ]
  },
  {
   "cell_type": "code",
   "execution_count": 17,
   "id": "4e1ef502",
   "metadata": {},
   "outputs": [
    {
     "name": "stdout",
     "output_type": "stream",
     "text": [
      "Normalization data: [-1.41421356 -0.70710678  0.          0.70710678  1.41421356]\n"
     ]
    }
   ],
   "source": [
    "#  Stastical concept: -Normalization\n",
    "\n",
    "# to have a mean of 0 standard deviation:\n",
    "data=np.array([1,2,3,4,5])\n",
    "\n",
    "#  Calcualate the mean and standard deviation\n",
    "Mean=np.mean(data)\n",
    "std=np.std(data)\n",
    "\n",
    "#  Normalization the data:\n",
    "normalization_data=(data-Mean)/std\n",
    "print(\"Normalization data:\",normalization_data)"
   ]
  },
  {
   "cell_type": "code",
   "execution_count": 18,
   "id": "9cf99fad",
   "metadata": {},
   "outputs": [
    {
     "name": "stdout",
     "output_type": "stream",
     "text": [
      "Mean: 3.0\n",
      "Standard Darivation 1.4142135623730951\n",
      "Variance: 2.0\n"
     ]
    }
   ],
   "source": [
    "#  Clacuate the standard derivation:\n",
    "arr=np.array([1,2,3,4,5])\n",
    "# Mean of the array\n",
    "print(\"Mean:\",np.mean(arr))\n",
    "# Standard deviation:\n",
    "std_dev=np.std(arr)\n",
    "print(\"Standard Darivation\",std_dev)\n",
    "\n",
    "# Variance:\n",
    "VAriance=np.var(arr)\n",
    "print(\"Variance:\",VAriance)"
   ]
  },
  {
   "cell_type": "code",
   "execution_count": 23,
   "id": "93b0ea4c",
   "metadata": {},
   "outputs": [
    {
     "name": "stdout",
     "output_type": "stream",
     "text": [
      "[6 7]\n",
      "[1 2 3 4 5 6 7]\n"
     ]
    }
   ],
   "source": [
    "# Locial Operation:\n",
    "data=np.array([1,2,3,4,5,6,7,8,9,10])\n",
    "#  Retrive the data grater than 5\n",
    "print(data[(data>5) & (data<8)])\n",
    "\n",
    "#  Retrive the data small than 8\n",
    "print(data[data<8])\n"
   ]
  }
 ],
 "metadata": {
  "kernelspec": {
   "display_name": "base",
   "language": "python",
   "name": "python3"
  },
  "language_info": {
   "codemirror_mode": {
    "name": "ipython",
    "version": 3
   },
   "file_extension": ".py",
   "mimetype": "text/x-python",
   "name": "python",
   "nbconvert_exporter": "python",
   "pygments_lexer": "ipython3",
   "version": "3.13.5"
  }
 },
 "nbformat": 4,
 "nbformat_minor": 5
}
