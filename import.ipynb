{
 "cells": [
  {
   "cell_type": "markdown",
   "id": "2b77c7ed",
   "metadata": {},
   "source": [
    "Importing the modules in python : Modules and Packages"
   ]
  },
  {
   "cell_type": "markdown",
   "id": "cd109e8c",
   "metadata": {},
   "source": [
    "In Python Modules and Packages help Organize and reuse code.Here's a comprehensive guide on how to import them"
   ]
  },
  {
   "cell_type": "code",
   "execution_count": 2,
   "id": "0a75f525",
   "metadata": {},
   "outputs": [
    {
     "data": {
      "text/plain": [
       "5.830951894845301"
      ]
     },
     "execution_count": 2,
     "metadata": {},
     "output_type": "execute_result"
    }
   ],
   "source": [
    "import math\n",
    "math.sqrt(34)"
   ]
  },
  {
   "cell_type": "code",
   "execution_count": 3,
   "id": "d9315618",
   "metadata": {},
   "outputs": [
    {
     "name": "stdout",
     "output_type": "stream",
     "text": [
      "4.0\n",
      "5.830951894845301\n",
      "3.141592653589793\n"
     ]
    }
   ],
   "source": [
    "from math import sqrt,pi\n",
    "print(sqrt(16))\n",
    "print(sqrt(34))\n",
    "print(pi)"
   ]
  },
  {
   "cell_type": "code",
   "execution_count": 8,
   "id": "68a28977",
   "metadata": {},
   "outputs": [
    {
     "name": "stdout",
     "output_type": "stream",
     "text": [
      "[ 1  3  6 10 15 21]\n",
      "21\n"
     ]
    }
   ],
   "source": [
    "import numpy as np\n",
    "array=np.array([1,2,3,4,5,6])\n",
    "print(array.cumsum())\n",
    "print(array.sum())"
   ]
  },
  {
   "cell_type": "markdown",
   "id": "f799e07f",
   "metadata": {},
   "source": [
    "# Standard libearay Overview"
   ]
  },
  {
   "cell_type": "markdown",
   "id": "023c2a04",
   "metadata": {},
   "source": [
    "python's Standard Library is a vast collection of modules and packages that come bundled with python,\n",
    "providing a wide range of functionalities out of the box, here an overview of some of the most commonly used modules and packages in the python Standard library."
   ]
  },
  {
   "cell_type": "code",
   "execution_count": 2,
   "id": "335b5c21",
   "metadata": {},
   "outputs": [
    {
     "data": {
      "text/plain": [
       "array('i', [1, 2, 3, 4, 5])"
      ]
     },
     "execution_count": 2,
     "metadata": {},
     "output_type": "execute_result"
    }
   ],
   "source": [
    "import array\n",
    "arr=array.array(\"i\",[1,2,3,4,5])\n",
    "arr"
   ]
  },
  {
   "cell_type": "code",
   "execution_count": 3,
   "id": "d57ba0ae",
   "metadata": {},
   "outputs": [
    {
     "data": {
      "text/plain": [
       "4.795831523312719"
      ]
     },
     "execution_count": 3,
     "metadata": {},
     "output_type": "execute_result"
    }
   ],
   "source": [
    "import math \n",
    "math.sqrt(23)"
   ]
  },
  {
   "cell_type": "code",
   "execution_count": 4,
   "id": "c9805636",
   "metadata": {},
   "outputs": [
    {
     "data": {
      "text/plain": [
       "3.141592653589793"
      ]
     },
     "execution_count": 4,
     "metadata": {},
     "output_type": "execute_result"
    }
   ],
   "source": [
    "math.pi"
   ]
  },
  {
   "cell_type": "code",
   "execution_count": 10,
   "id": "917c0ebf",
   "metadata": {},
   "outputs": [
    {
     "name": "stdout",
     "output_type": "stream",
     "text": [
      "5\n",
      "banana\n"
     ]
    }
   ],
   "source": [
    "#  Random libeary\n",
    "import random\n",
    "print(random.randint(1,10))\n",
    "print(random.choice([\"apple\",\"banana\",\"cherry\"]))"
   ]
  },
  {
   "cell_type": "code",
   "execution_count": 11,
   "id": "6ae3156f",
   "metadata": {},
   "outputs": [
    {
     "name": "stdout",
     "output_type": "stream",
     "text": [
      "c:\\Users\\sriva\\Desktop\\udemy\\udemy datascience\\Modules\n"
     ]
    }
   ],
   "source": [
    "# File and directory Access\n",
    "import os\n",
    "print(os.getcwd())"
   ]
  },
  {
   "cell_type": "code",
   "execution_count": null,
   "id": "49fd095a",
   "metadata": {},
   "outputs": [],
   "source": [
    "# #  create the filder in current directory\n",
    "# os.mkdir(\"test_dir \")"
   ]
  },
  {
   "cell_type": "code",
   "execution_count": 13,
   "id": "165a3d33",
   "metadata": {},
   "outputs": [
    {
     "data": {
      "text/plain": [
       "'Destination.txt'"
      ]
     },
     "execution_count": 13,
     "metadata": {},
     "output_type": "execute_result"
    }
   ],
   "source": [
    "#  High level operation on fiels and collection of the files\n",
    "import shutil\n",
    "shutil.copyfile(\"soures.txt\",\"Destination.txt\")\n",
    "# It create the copy of the file in new create txt file"
   ]
  },
  {
   "cell_type": "code",
   "execution_count": 19,
   "id": "3548d164",
   "metadata": {},
   "outputs": [
    {
     "data": {
      "text/plain": [
       "{'Name': 'DEv', 'Age': 23}"
      ]
     },
     "execution_count": 19,
     "metadata": {},
     "output_type": "execute_result"
    }
   ],
   "source": [
    "# Data serialization\n",
    "import json\n",
    "data={\"Name\":\"DEv\",\"Age\":23}\n",
    "json_str=json.dumps(data) # It help  to covert the our dictionary into json or api\n",
    "json_str\n",
    "\n",
    "Pastdata=json.loads(json_str) # covert back into api to their original str or dic\n",
    "Pastdata"
   ]
  },
  {
   "cell_type": "code",
   "execution_count": 22,
   "id": "f26733c0",
   "metadata": {},
   "outputs": [
    {
     "name": "stdout",
     "output_type": "stream",
     "text": [
      "['name', 'Age']\n",
      "['Krish', '56']\n"
     ]
    }
   ],
   "source": [
    "# csv\n",
    "import csv\n",
    "\n",
    "with open(\"example.csv\",mode=\"w\",newline=\"\") as file:\n",
    "    writer=csv.writer(file)\n",
    "    writer.writerow([\"name\",\"Age\"])\n",
    "    writer.writerow([\"Krish\",56])\n",
    "\n",
    "with open(\"example.csv\",\"r\") as file:\n",
    "    reader=csv.reader(file)\n",
    "    for row in reader:\n",
    "        print(row)    "
   ]
  },
  {
   "cell_type": "code",
   "execution_count": 23,
   "id": "14556b0b",
   "metadata": {},
   "outputs": [
    {
     "name": "stdout",
     "output_type": "stream",
     "text": [
      "2025-10-01 18:38:28.274763\n",
      "2025-09-30 18:38:28.274763\n"
     ]
    }
   ],
   "source": [
    "from datetime import datetime,timedelta\n",
    "now=datetime.now()\n",
    "yesterday=now-timedelta(days=1)\n",
    "print(now)\n",
    "print(yesterday)"
   ]
  },
  {
   "cell_type": "code",
   "execution_count": 25,
   "id": "75600632",
   "metadata": {},
   "outputs": [
    {
     "name": "stdout",
     "output_type": "stream",
     "text": [
      "1759324197.577592\n",
      "1759324199.5784276\n"
     ]
    }
   ],
   "source": [
    "# Time\n",
    "import time\n",
    "print(time.time())\n",
    "time.sleep(2) # sleep for 2 sec and give the ouput\n",
    "print(time.time())\n"
   ]
  },
  {
   "cell_type": "code",
   "execution_count": 29,
   "id": "44889444",
   "metadata": {},
   "outputs": [
    {
     "name": "stdout",
     "output_type": "stream",
     "text": [
      "123\n"
     ]
    }
   ],
   "source": [
    "#  regular Expression\n",
    "import re\n",
    "#  match the pattern\n",
    "patterns=r\"\\d+\"\n",
    "text=\"There are 123 apple 456\"\n",
    "match=re.search(patterns,text)\n",
    "print(match.group())"
   ]
  }
 ],
 "metadata": {
  "kernelspec": {
   "display_name": "base",
   "language": "python",
   "name": "python3"
  },
  "language_info": {
   "codemirror_mode": {
    "name": "ipython",
    "version": 3
   },
   "file_extension": ".py",
   "mimetype": "text/x-python",
   "name": "python",
   "nbconvert_exporter": "python",
   "pygments_lexer": "ipython3",
   "version": "3.13.5"
  }
 },
 "nbformat": 4,
 "nbformat_minor": 5
}
