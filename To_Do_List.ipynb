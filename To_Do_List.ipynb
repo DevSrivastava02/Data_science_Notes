{
 "cells": [
  {
   "cell_type": "code",
   "execution_count": 2,
   "id": "7aefb248",
   "metadata": {},
   "outputs": [
    {
     "name": "stdout",
     "output_type": "stream",
     "text": [
      "Do not miss the pay the bil\n",
      "To Do list remaining\n",
      "-Buy the Groceries\n",
      "-Pay bills\n",
      "-Schedule meeting\n",
      "- Go the run\n"
     ]
    }
   ],
   "source": [
    "to_do_lsit=[\"Buy the Groceries\",\"Clean the house\",\"Pay bills\"]\n",
    "\n",
    "#  Adding the task\n",
    "\n",
    "to_do_lsit.append(\"Schedule meeting\")\n",
    "to_do_lsit.append(\" Go the run\")\n",
    "\n",
    "\n",
    "#  Remove the particular task:\n",
    "to_do_lsit.remove(\"Clean the house\")\n",
    "\n",
    "#  checking the task is in the list or not\n",
    "\n",
    "if \"Pay bills\" in to_do_lsit:\n",
    "    print( \"Do not miss the pay the bil\")\n",
    "\n",
    "print(\"To Do list remaining\")\n",
    "for task in to_do_lsit:\n",
    "    print(f\"-{task}\")    \n",
    "\n"
   ]
  },
  {
   "cell_type": "markdown",
   "id": "f02191e0",
   "metadata": {},
   "source": []
  },
  {
   "cell_type": "code",
   "execution_count": null,
   "id": "40803123",
   "metadata": {},
   "outputs": [],
   "source": []
  },
  {
   "cell_type": "code",
   "execution_count": null,
   "id": "409e4887",
   "metadata": {},
   "outputs": [],
   "source": []
  },
  {
   "cell_type": "code",
   "execution_count": null,
   "id": "c6e87dfb",
   "metadata": {},
   "outputs": [],
   "source": []
  },
  {
   "cell_type": "code",
   "execution_count": null,
   "id": "b1014675",
   "metadata": {},
   "outputs": [],
   "source": []
  },
  {
   "cell_type": "code",
   "execution_count": null,
   "id": "c053812b",
   "metadata": {},
   "outputs": [],
   "source": []
  },
  {
   "cell_type": "code",
   "execution_count": null,
   "id": "92704e1c",
   "metadata": {},
   "outputs": [],
   "source": []
  },
  {
   "cell_type": "code",
   "execution_count": null,
   "id": "824f085d",
   "metadata": {},
   "outputs": [],
   "source": []
  },
  {
   "cell_type": "code",
   "execution_count": null,
   "id": "53830639",
   "metadata": {},
   "outputs": [],
   "source": []
  },
  {
   "cell_type": "code",
   "execution_count": null,
   "id": "fc742d7d",
   "metadata": {},
   "outputs": [],
   "source": []
  },
  {
   "cell_type": "markdown",
   "id": "e36d83b5",
   "metadata": {},
   "source": [
    "To do list\n"
   ]
  },
  {
   "cell_type": "markdown",
   "id": "a17c0bae",
   "metadata": {},
   "source": []
  }
 ],
 "metadata": {
  "kernelspec": {
   "display_name": "base",
   "language": "python",
   "name": "python3"
  },
  "language_info": {
   "codemirror_mode": {
    "name": "ipython",
    "version": 3
   },
   "file_extension": ".py",
   "mimetype": "text/x-python",
   "name": "python",
   "nbconvert_exporter": "python",
   "pygments_lexer": "ipython3",
   "version": "3.13.5"
  }
 },
 "nbformat": 4,
 "nbformat_minor": 5
}
