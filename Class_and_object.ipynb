{
 "cells": [
  {
   "cell_type": "markdown",
   "id": "59e0fe4d",
   "metadata": {},
   "source": [
    "class and object\n"
   ]
  },
  {
   "cell_type": "markdown",
   "id": "86f788c9",
   "metadata": {},
   "source": [
    "Object-Oriented Programming (OPP) is a Programming paradigm that uses \"Object \" to desgin apllications and computer program. Ooo allows for modeling real -world scenarios using class and object.THis lesson cover the basic of the creating  class and object ,including instruction variable and method"
   ]
  },
  {
   "cell_type": "code",
   "execution_count": 2,
   "id": "3028310d",
   "metadata": {},
   "outputs": [
    {
     "name": "stdout",
     "output_type": "stream",
     "text": [
      "<class '__main__.car'>\n",
      "<__main__.car object at 0x000001A3BD953B60>\n"
     ]
    }
   ],
   "source": [
    "#  A class is a blue print for creating object .Attributes ,Methods\n",
    "\n",
    "class car:\n",
    "    pass\n",
    "\n",
    "audi=car()\n",
    "bmw=car()\n",
    "\n",
    "print(type(bmw))\n",
    "print(audi)"
   ]
  },
  {
   "cell_type": "code",
   "execution_count": null,
   "id": "058cc253",
   "metadata": {},
   "outputs": [
    {
     "name": "stdout",
     "output_type": "stream",
     "text": [
      "4\n"
     ]
    }
   ],
   "source": [
    "#  This is not proper way to intisied the attribute:\n",
    "# audi.window=4\n",
    "# print(audi.window)"
   ]
  },
  {
   "cell_type": "code",
   "execution_count": 4,
   "id": "af2015cd",
   "metadata": {},
   "outputs": [
    {
     "data": {
      "text/plain": [
       "['__class__',\n",
       " '__delattr__',\n",
       " '__dict__',\n",
       " '__dir__',\n",
       " '__doc__',\n",
       " '__eq__',\n",
       " '__firstlineno__',\n",
       " '__format__',\n",
       " '__ge__',\n",
       " '__getattribute__',\n",
       " '__getstate__',\n",
       " '__gt__',\n",
       " '__hash__',\n",
       " '__init__',\n",
       " '__init_subclass__',\n",
       " '__le__',\n",
       " '__lt__',\n",
       " '__module__',\n",
       " '__ne__',\n",
       " '__new__',\n",
       " '__reduce__',\n",
       " '__reduce_ex__',\n",
       " '__repr__',\n",
       " '__setattr__',\n",
       " '__sizeof__',\n",
       " '__static_attributes__',\n",
       " '__str__',\n",
       " '__subclasshook__',\n",
       " '__weakref__']"
      ]
     },
     "execution_count": 4,
     "metadata": {},
     "output_type": "execute_result"
    }
   ],
   "source": [
    "dir(bmw)"
   ]
  },
  {
   "cell_type": "code",
   "execution_count": 6,
   "id": "e93e4278",
   "metadata": {},
   "outputs": [
    {
     "name": "stdout",
     "output_type": "stream",
     "text": [
      "<__main__.dog object at 0x000001A3BDC982F0>\n",
      "Buddy\n",
      "34\n",
      "toomy\n"
     ]
    }
   ],
   "source": [
    "# Instance variable and method\n",
    "class dog:\n",
    "    #  Constructor\n",
    "    def __init__(self,name,age):\n",
    "        #  crate the intence variable\n",
    "        self.name=name\n",
    "        self.age=age\n",
    "\n",
    "# create the object:\n",
    "dog1=dog(\"Buddy\",34)\n",
    "print(dog1)  \n",
    "print(dog1.name) \n",
    "print(dog1.age)\n",
    "\n",
    "#  crate the new object:\n",
    "tommy1=dog(\"toomy\",2)\n",
    "print(tommy1.name)"
   ]
  },
  {
   "cell_type": "code",
   "execution_count": null,
   "id": "8019746c",
   "metadata": {},
   "outputs": [
    {
     "name": "stdout",
     "output_type": "stream",
     "text": [
      "Tommy is bark\n"
     ]
    }
   ],
   "source": [
    "#  DEfin the class with instance varibale:\n",
    "class Dog:\n",
    "    def __init__(self,name,age):\n",
    "        self.name=name\n",
    "        self.age=age\n",
    "    def bark(self):\n",
    "        print(f\"{self.name} is bark\")  \n",
    "\n",
    "\n",
    "# Create the object:\n",
    "dog1=Dog(\"Tommy\",3)  \n",
    "dog1.bark()\n"
   ]
  },
  {
   "cell_type": "code",
   "execution_count": 15,
   "id": "a4e53f27",
   "metadata": {},
   "outputs": [
    {
     "name": "stdout",
     "output_type": "stream",
     "text": [
      "250 is add.Your new Balance is 250\n",
      "30 is withdraw from the Account \n",
      " Your new Balnace is 220\n"
     ]
    }
   ],
   "source": [
    "#  Modeling a Bank Account:\n",
    "\n",
    "#  define a class for bank account:\n",
    "class BankAcount:\n",
    "    def __init__(self,owner,balance=0):\n",
    "        self.owner=owner\n",
    "        self.balance=balance\n",
    "\n",
    "    def deposit(self,amount):\n",
    "        self.balance=self.balance+amount\n",
    "        print(f\"{amount} is add.Your new Balance is {self.balance}\")\n",
    "\n",
    "    def withdraw(self,amount):\n",
    "        if amount>self.balance:\n",
    "            print(\"Insufficient  Funds!!\")\n",
    "        else:\n",
    "            self.balance=self.balance-amount  # self.balance-=amount\n",
    "            print(f\"{amount} is withdraw from the Account \\n Your new Balnace is {self.balance}\")\n",
    "\n",
    "user1=BankAcount(\"dev\") \n",
    "user1.balance  \n",
    "\n",
    "user1.deposit(250)\n",
    "user1.balance\n",
    "\n",
    "user1.withdraw(30)\n",
    "\n",
    "\n"
   ]
  }
 ],
 "metadata": {
  "kernelspec": {
   "display_name": "base",
   "language": "python",
   "name": "python3"
  },
  "language_info": {
   "codemirror_mode": {
    "name": "ipython",
    "version": 3
   },
   "file_extension": ".py",
   "mimetype": "text/x-python",
   "name": "python",
   "nbconvert_exporter": "python",
   "pygments_lexer": "ipython3",
   "version": "3.13.5"
  }
 },
 "nbformat": 4,
 "nbformat_minor": 5
}
