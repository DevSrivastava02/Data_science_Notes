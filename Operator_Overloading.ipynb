{
 "cells": [
  {
   "cell_type": "markdown",
   "id": "24edc6b1",
   "metadata": {},
   "source": [
    "Operator Overloading"
   ]
  },
  {
   "cell_type": "code",
   "execution_count": 2,
   "id": "d8f581d4",
   "metadata": {},
   "outputs": [
    {
     "data": {
      "text/plain": [
       "'\\n__add__(self,other): Adds two Objects using the + operator.\\n__sub__(self,other): Subtracts two object using the - operators\\n__mul__(self,other): Multiplies two object using the * operators.\\n__truediv__(self,other):Divides two object using the / operators.\\n__eq__(self,other): Check if two object are equal using the == operator.\\n__lt__(self,other): Check if one onject is less than another using the < operator.\\n__gt__(self,other):check the grater than\\n'"
      ]
     },
     "execution_count": 2,
     "metadata": {},
     "output_type": "execute_result"
    }
   ],
   "source": [
    "#  Common Operators Overloading Magic Methods:\n",
    "\n",
    "\"\"\"\n",
    "__add__(self,other): Adds two Objects using the + operator.\n",
    "__sub__(self,other): Subtracts two object using the - operators\n",
    "__mul__(self,other): Multiplies two object using the * operators.\n",
    "__truediv__(self,other):Divides two object using the / operators.\n",
    "__eq__(self,other): Check if two object are equal using the == operator.\n",
    "__lt__(self,other): Check if one onject is less than another using the < operator.\n",
    "__gt__(self,other):check the grater than\n",
    "\"\"\""
   ]
  },
  {
   "cell_type": "code",
   "execution_count": 12,
   "id": "bb901b5e",
   "metadata": {},
   "outputs": [
    {
     "name": "stdout",
     "output_type": "stream",
     "text": [
      "Vector 7,9\n",
      "Vector -3,-3\n",
      "Vector 24,36\n"
     ]
    }
   ],
   "source": [
    "## Addition operation for vector:\n",
    "\n",
    "class Vector():\n",
    "    def __init__(self,x,y):\n",
    "        self.x=x\n",
    "        self.y=y\n",
    "\n",
    "    def __add__(self,other):\n",
    "        return Vector(self.x + other.x,self.y+other.y)  \n",
    "\n",
    "    def __sub__(self,other):\n",
    "        return Vector(self.x - other.x,self.y - other.y)  \n",
    "\n",
    "    def __mul__(self,other):\n",
    "        return Vector(self.x * other,self.y * other)    \n",
    "    \n",
    "    def __eq__(self,other):\n",
    "        return Vector(self.x == other.x and self.y == other.y)  \n",
    "    \n",
    "\n",
    "    def __repr__(self):\n",
    "        return f\"Vector {self.x},{self.y}\"\n",
    "    \n",
    "\n",
    "# create the object of the vector class:\n",
    "v1=Vector(2,3)\n",
    "v2=Vector(5,6)\n",
    "print(v1+v2)\n",
    "print(v1-v2)\n",
    "print(v1*12)\n",
    "\n"
   ]
  }
 ],
 "metadata": {
  "kernelspec": {
   "display_name": "base",
   "language": "python",
   "name": "python3"
  },
  "language_info": {
   "codemirror_mode": {
    "name": "ipython",
    "version": 3
   },
   "file_extension": ".py",
   "mimetype": "text/x-python",
   "name": "python",
   "nbconvert_exporter": "python",
   "pygments_lexer": "ipython3",
   "version": "3.13.5"
  }
 },
 "nbformat": 4,
 "nbformat_minor": 5
}
