{
 "cells": [
  {
   "cell_type": "markdown",
   "id": "11bad365",
   "metadata": {},
   "source": [
    "### Data Visualization With Seaborn"
   ]
  },
  {
   "cell_type": "markdown",
   "id": "1046bcf2",
   "metadata": {},
   "source": [
    "Seaborn is a python visulization library based on Matplotlib that provide a high -level interface for drawing attractive and information statistical graphics. Seaborn help in creating complex visualization with just a few lines of code. In this lesson, we cover the baisc of Seaborn, include creating various types of plots and customizing them."
   ]
  },
  {
   "cell_type": "markdown",
   "id": "9f1e9cd0",
   "metadata": {},
   "source": [
    "pip install seaborn"
   ]
  },
  {
   "cell_type": "code",
   "execution_count": 1,
   "id": "254007a7",
   "metadata": {},
   "outputs": [
    {
     "name": "stdout",
     "output_type": "stream",
     "text": [
      "Requirement already satisfied: seaborn in c:\\users\\sriva\\anaconda3\\lib\\site-packages (0.13.2)\n",
      "Requirement already satisfied: numpy!=1.24.0,>=1.20 in c:\\users\\sriva\\anaconda3\\lib\\site-packages (from seaborn) (2.1.3)\n",
      "Requirement already satisfied: pandas>=1.2 in c:\\users\\sriva\\anaconda3\\lib\\site-packages (from seaborn) (2.2.3)\n",
      "Requirement already satisfied: matplotlib!=3.6.1,>=3.4 in c:\\users\\sriva\\anaconda3\\lib\\site-packages (from seaborn) (3.10.0)\n",
      "Requirement already satisfied: contourpy>=1.0.1 in c:\\users\\sriva\\anaconda3\\lib\\site-packages (from matplotlib!=3.6.1,>=3.4->seaborn) (1.3.1)\n",
      "Requirement already satisfied: cycler>=0.10 in c:\\users\\sriva\\anaconda3\\lib\\site-packages (from matplotlib!=3.6.1,>=3.4->seaborn) (0.11.0)\n",
      "Requirement already satisfied: fonttools>=4.22.0 in c:\\users\\sriva\\anaconda3\\lib\\site-packages (from matplotlib!=3.6.1,>=3.4->seaborn) (4.55.3)\n",
      "Requirement already satisfied: kiwisolver>=1.3.1 in c:\\users\\sriva\\anaconda3\\lib\\site-packages (from matplotlib!=3.6.1,>=3.4->seaborn) (1.4.8)\n",
      "Requirement already satisfied: packaging>=20.0 in c:\\users\\sriva\\anaconda3\\lib\\site-packages (from matplotlib!=3.6.1,>=3.4->seaborn) (24.2)\n",
      "Requirement already satisfied: pillow>=8 in c:\\users\\sriva\\anaconda3\\lib\\site-packages (from matplotlib!=3.6.1,>=3.4->seaborn) (11.1.0)\n",
      "Requirement already satisfied: pyparsing>=2.3.1 in c:\\users\\sriva\\anaconda3\\lib\\site-packages (from matplotlib!=3.6.1,>=3.4->seaborn) (3.2.0)\n",
      "Requirement already satisfied: python-dateutil>=2.7 in c:\\users\\sriva\\anaconda3\\lib\\site-packages (from matplotlib!=3.6.1,>=3.4->seaborn) (2.9.0.post0)\n",
      "Requirement already satisfied: pytz>=2020.1 in c:\\users\\sriva\\anaconda3\\lib\\site-packages (from pandas>=1.2->seaborn) (2024.1)\n",
      "Requirement already satisfied: tzdata>=2022.7 in c:\\users\\sriva\\anaconda3\\lib\\site-packages (from pandas>=1.2->seaborn) (2025.2)\n",
      "Requirement already satisfied: six>=1.5 in c:\\users\\sriva\\anaconda3\\lib\\site-packages (from python-dateutil>=2.7->matplotlib!=3.6.1,>=3.4->seaborn) (1.17.0)\n",
      "Note: you may need to restart the kernel to use updated packages.\n"
     ]
    }
   ],
   "source": [
    "pip install seaborn"
   ]
  },
  {
   "cell_type": "code",
   "execution_count": 2,
   "id": "3b7906d1",
   "metadata": {},
   "outputs": [],
   "source": [
    "import seaborn as sns\n",
    "import matplotlib.pyplot as plt\n",
    "import pandas as pd\n",
    "import numpy as np"
   ]
  },
  {
   "cell_type": "code",
   "execution_count": null,
   "id": "b50620fe",
   "metadata": {},
   "outputs": [],
   "source": [
    "# #  Basic  Plotting with Seaborn\n",
    "\n",
    "# #  Creating the Scatter plot\n",
    "\n",
    "# sns.scatterplot(x=\"name\",y=\"name\",data=dataname)\n",
    "# plt.title(\"Baisc scatter plot\")\n",
    "# plt.show()"
   ]
  },
  {
   "cell_type": "code",
   "execution_count": null,
   "id": "c64f5110",
   "metadata": {},
   "outputs": [],
   "source": [
    "# #  Line plot:\n",
    "# sns.lineplot(x=\"name\",y=\"name\",data=datasetname)\n",
    "# plt.title(\"Line Graph\")\n",
    "# plt.show()"
   ]
  },
  {
   "cell_type": "code",
   "execution_count": null,
   "id": "db88783e",
   "metadata": {},
   "outputs": [],
   "source": [
    "# #  Categorical  variable graph:\n",
    "# #  bar plot\n",
    "# sns.barplot(x=\"name\",y=\"name\",data=datanameset)\n",
    "# plt.title(\"Total data by day\")\n",
    "# plt.show()"
   ]
  },
  {
   "cell_type": "code",
   "execution_count": null,
   "id": "625d68ec",
   "metadata": {},
   "outputs": [],
   "source": [
    "# #  Box plot:\n",
    "# sns.boxplot(x=\"name\",y=\"name\",data=datanameset)\n"
   ]
  },
  {
   "cell_type": "code",
   "execution_count": null,
   "id": "6acefd6f",
   "metadata": {},
   "outputs": [],
   "source": [
    "# #  Violin plot:\n",
    "# sns.violinplot(x=\"name\",y=\"name\",data=datasetname)\n"
   ]
  },
  {
   "cell_type": "code",
   "execution_count": 8,
   "id": "c151a9a5",
   "metadata": {},
   "outputs": [],
   "source": [
    "# #  Histogram plot:\n",
    "# sns.histplot(x,bins=10,kde=True)"
   ]
  },
  {
   "cell_type": "code",
   "execution_count": null,
   "id": "10663f1a",
   "metadata": {},
   "outputs": [],
   "source": [
    "# #  Kde plot:\n",
    "# sns.kdeplot(data[\"name\"],fill=True)"
   ]
  },
  {
   "cell_type": "code",
   "execution_count": null,
   "id": "3f28c0c7",
   "metadata": {},
   "outputs": [],
   "source": [
    "# #  Paireplot:\n",
    "\n",
    "# sns.pairplot(datasetname)\n"
   ]
  },
  {
   "cell_type": "code",
   "execution_count": null,
   "id": "7a5c2987",
   "metadata": {},
   "outputs": [],
   "source": [
    "# #  Heatmap plot:\n",
    "# corr=datasetname[[\"numberical dataset name\", nextname,nextname]].corr()\n",
    "# sns.heatmap(corr,annot=True,cmap=\"coolwarm\")"
   ]
  },
  {
   "cell_type": "code",
   "execution_count": null,
   "id": "a4ca9580",
   "metadata": {},
   "outputs": [],
   "source": [
    "# sns.barplot(x='region', y='total_revenue', data=sales_df, estimator=sum)\n",
    "# plt.title('Total Sales by Region')\n",
    "# plt.xlabel('Region')\n",
    "# plt.ylabel('Total Revenue')\n",
    "# plt.show()"
   ]
  }
 ],
 "metadata": {
  "kernelspec": {
   "display_name": "base",
   "language": "python",
   "name": "python3"
  },
  "language_info": {
   "codemirror_mode": {
    "name": "ipython",
    "version": 3
   },
   "file_extension": ".py",
   "mimetype": "text/x-python",
   "name": "python",
   "nbconvert_exporter": "python",
   "pygments_lexer": "ipython3",
   "version": "3.13.5"
  }
 },
 "nbformat": 4,
 "nbformat_minor": 5
}
