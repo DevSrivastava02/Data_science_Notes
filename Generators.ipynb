{
 "cells": [
  {
   "cell_type": "markdown",
   "id": "d9c37eeb",
   "metadata": {},
   "source": [
    "Generators"
   ]
  },
  {
   "cell_type": "markdown",
   "id": "e5dfd79f",
   "metadata": {},
   "source": [
    "Generators are a simple way to create iterators. They use the keyword to produce a series of value lazily which means they generate values on the fly and do not store them in memory"
   ]
  },
  {
   "cell_type": "code",
   "execution_count": 1,
   "id": "191ab1f2",
   "metadata": {},
   "outputs": [
    {
     "data": {
      "text/plain": [
       "<generator object square at 0x00000206CBE7E8E0>"
      ]
     },
     "execution_count": 1,
     "metadata": {},
     "output_type": "execute_result"
    }
   ],
   "source": [
    "def square(n):\n",
    "    for i in range(3):\n",
    "        yield i**2\n",
    "\n",
    "square(3)"
   ]
  },
  {
   "cell_type": "code",
   "execution_count": 3,
   "id": "fa772a95",
   "metadata": {},
   "outputs": [
    {
     "name": "stdout",
     "output_type": "stream",
     "text": [
      "0 1 4 "
     ]
    }
   ],
   "source": [
    "for i in square(3):\n",
    "    print(i ,end=\" \")"
   ]
  },
  {
   "cell_type": "code",
   "execution_count": 11,
   "id": "02bb6b9e",
   "metadata": {},
   "outputs": [],
   "source": [
    "a=iter(square(3))\n"
   ]
  },
  {
   "cell_type": "code",
   "execution_count": 12,
   "id": "a186c0e0",
   "metadata": {},
   "outputs": [
    {
     "data": {
      "text/plain": [
       "0"
      ]
     },
     "execution_count": 12,
     "metadata": {},
     "output_type": "execute_result"
    }
   ],
   "source": [
    "next(a)"
   ]
  },
  {
   "cell_type": "code",
   "execution_count": 13,
   "id": "f5fbfa1c",
   "metadata": {},
   "outputs": [],
   "source": [
    "def y_generator():\n",
    "    yield 1\n",
    "    yield 2\n",
    "    yield 3"
   ]
  },
  {
   "cell_type": "code",
   "execution_count": 22,
   "id": "93eb0ce6",
   "metadata": {},
   "outputs": [
    {
     "data": {
      "text/plain": [
       "<generator object y_generator at 0x00000206CC592980>"
      ]
     },
     "execution_count": 22,
     "metadata": {},
     "output_type": "execute_result"
    }
   ],
   "source": [
    "gen=y_generator()\n",
    "gen"
   ]
  },
  {
   "cell_type": "code",
   "execution_count": 20,
   "id": "6ead144c",
   "metadata": {},
   "outputs": [
    {
     "ename": "StopIteration",
     "evalue": "",
     "output_type": "error",
     "traceback": [
      "\u001b[1;31m---------------------------------------------------------------------------\u001b[0m",
      "\u001b[1;31mStopIteration\u001b[0m                             Traceback (most recent call last)",
      "Cell \u001b[1;32mIn[20], line 1\u001b[0m\n\u001b[1;32m----> 1\u001b[0m \u001b[38;5;28mnext\u001b[39m(gen)\n",
      "\u001b[1;31mStopIteration\u001b[0m: "
     ]
    }
   ],
   "source": [
    "next(gen)"
   ]
  },
  {
   "cell_type": "code",
   "execution_count": 23,
   "id": "3bd7bca6",
   "metadata": {},
   "outputs": [
    {
     "name": "stdout",
     "output_type": "stream",
     "text": [
      "1\n",
      "2\n",
      "3\n"
     ]
    }
   ],
   "source": [
    "for val in gen:\n",
    "    print(val)"
   ]
  },
  {
   "cell_type": "markdown",
   "id": "497e7a6e",
   "metadata": {},
   "source": [
    "Pratical Example:Reading large files:\n"
   ]
  },
  {
   "cell_type": "markdown",
   "id": "4c05b8fc",
   "metadata": {},
   "source": [
    "Generators are particalarly useful for rasding large files beacuse they allow you to process one line at a time without loading the enitre file into memory"
   ]
  },
  {
   "cell_type": "code",
   "execution_count": 25,
   "id": "37d4b934",
   "metadata": {},
   "outputs": [],
   "source": [
    "#  Practical :Reading Large File:\n",
    "\n",
    "def Read_file(filepath):\n",
    "    with open(filepath,\"r\")as file:\n",
    "        for line in file:\n",
    "            yield line"
   ]
  },
  {
   "cell_type": "code",
   "execution_count": 27,
   "id": "b28c3da9",
   "metadata": {},
   "outputs": [
    {
     "name": "stdout",
     "output_type": "stream",
     "text": [
      "The President of India is the head of state of the Republic of India. The President is the formal head of the executive, legislature, and judiciary of India and is also the commander-in-chief of the Indian Armed Forces.\n",
      "\n",
      "Although Article 53 of the Constitution of India states that the President can exercise his or her powers directly or by subordinate authority, with few exceptions, all of the executive authority vested in the President is, in practice, exercised by the Council of Ministers (CoM).\n",
      "\n",
      "Table of Contents\n",
      "Part V The Union\n",
      "Chapter I The Executive\n",
      "Article 52: The President of India\n",
      "Article 53: Executive Power of the Union\n",
      "Article 54: Election of President\n",
      "Article 55: Manner of Election of President\n",
      "Article 56: Term of office of President\n",
      "Article 57: Eligibility for re-election\n",
      "Article 58: Qualifications for Election as President\n",
      "Article 59: Conditions of President’s office\n",
      "Article 60: Oath or affirmation by the President\n",
      "Article 61: Procedure for Impeachment of the President\n",
      "Article 62: Time of holding election to fill a vacancy in the office of President and the term of office or person elected to fill a casual vacancy\n",
      "Info-Bits Related to the President of India\n",
      "Powers of the President of India\n",
      "Part V The Union\n",
      "Chapter I The Executive\n",
      "Article 52: The President of India\n",
      "There shall be a President of India.\n",
      "\n",
      "Article 53: Executive Power of the Union\n",
      "(1) The executive power of the Union shall be vested in the President and shall be exercised by him either directly or through officers subordinate to him by this Constitution.\n",
      "\n",
      "(2) Without prejudice to the generality of the foregoing provision, the supreme command of the Defence Forces of the Union Shall be vested in the President and the exercise thereof shall be regulated by law.\n",
      "\n",
      "(3) Nothing in this article shall –\n",
      "(a) be deemed to transfer to the President any functions conferred by any existing law on the Government of any State or other authority; or\n",
      "(b) prevent Parliament from conferring by law functions on authorities other than the President.\n",
      "\n",
      "Article 54: Election of President\n",
      "The President shall be elected by the members of an electoral college consisting of –\n",
      "\n",
      "(a) the elected members of both Houses of Parliament; and\n",
      "(b) the elected members of the Legislative Assemblies of the States. Explanation: In this article and article 55, “State” includes the National Capital Territory of Delhi and the Union territory of Pondicherry.\n",
      "\n",
      "Article 55: Manner of Election of President\n",
      "(1) As far as practicable, there shall be uniformity in the scale of representation of the different States at the election of the President.\n",
      "\n",
      "(2) For the purpose of securing such uniformity among the States inter se as well as parity between the States as a whole and the Union, the number of votes to which each elected member of Parliament and the Legislative Assembly of each state is entitled to cast at such election shall be determined in the following manner; –\n",
      "\n",
      "(a) every elected member of the Legislative Assembly of a State shall have as many votes as there are multiples of one thousand in the quotient obtained by dividing the population of the State by the total number of the elected members of the Assembly;\n",
      "(b) if, after taking the said multiples of one thousand, the remainder is not less than five hundred, then the vote of each member referred to in sub-clause (a) shall be further increased by one;\n",
      "(c) each elected member of either House of Parliament shall have such number of votes as may be obtained by dividing the total number of votes assigned to the members of the Legislative Assemblies of the States under sub-clauses (a) and (b) by the total number of the elected members of both Houses of Parliament, fractions exceeding one-half being counted as one and other fractions being disregarded.\n",
      "\n",
      "(3) The election of the President shall be held in accordance with the system of proportional representation using the single transferable vote and the voting at such election shall be by secret ballot.\n",
      "\n",
      "Explanation: In this article, the expression “population” means the population as ascertained at the last preceding census of which the relevant figures have been published:\n",
      "\n",
      "Provided that the reference in this Explanation to the last preceding census of which the relevant figures have been published shall, until the relevant figures for the first census taken after the year 2000 have been published, be construed as a reference to the 1971 census.\n",
      "Article 56: Term of office of President\n",
      "(1) The President shall hold office for a term of five years from the date on which he enters upon his office:\n",
      "\n",
      "Provided that –\n",
      "\n",
      "(a) the President may, by writing under his hand addressed to the Vice-President, resign his office;\n",
      "\n",
      "(b) the President may, for violation of the Constitution, be removed from office by impeachment in the manner provided in Article 61.\n",
      "\n",
      "(c) the President shall, notwithstanding the expiration of his term, continue to hold office until his successor enters upon his office.\n",
      "\n",
      "(2) Any resignation addressed to the Vice-President under clause (a) of the proviso to clause (1) shall forthwith be communicated by him to the Speaker of the House of the People.\n",
      "\n",
      "Article 57: Eligibility for re-election\n",
      "A person who holds, or who has held, office as President shall, subject to the other provisions of this Constitution be eligible for re-election to that office.\n",
      "\n",
      "Article 58: Qualifications for Election as President\n",
      "(1) No person shall be eligible for election as President unless he –\n",
      "\n",
      "(a) is a citizen of India;\n",
      "(b) has completed the age of thirty-five years, and\n",
      "(c) is qualified for election as a member of the House of the People.\n",
      "\n",
      "(2) A person shall not be eligible for election as President if he holds any office of profit under the Government of India or the Government of any State or under any local or other authority subject to the control of any of the said Governments.\n",
      "\n",
      "Explanation: For this article, a person shall not be deemed to hold any office of profit by reason only that he is the President or Vice-President of the Union or the Governor of any State or is a Minister either for the Union or for any State.\n",
      "\n",
      "Article 59: Conditions of President’s office\n",
      "(1) The President shall not be a member of either House of Parliament or a House of the Legislature of any State, and if a member of either House of Parliament or a House of the Legislature of any State is elected President, he shall be deemed to have vacated his seat in that House on the date on which he enters upon his office as President.\n",
      "\n",
      "(2) The President shall not hold any other office of profit.\n",
      "\n",
      "(3) The President shall be entitled without payment of rent to the use of his official residences and shall be also entitled to such emoluments, allowances, and privileges as may be determined by Parliament by law and until provision in that behalf is so made, such emoluments, allowances, and privileges as are specified in the Second Schedule.\n",
      "\n",
      "(4) The emoluments and allowances of the President shall not be diminished during his term of office.\n",
      "\n",
      "Article 60: Oath or affirmation by the President\n",
      "Every President and every person acting as President or discharging the functions of the President shall, before entering upon his office, make and subscribe in the presence of the Chief Justice of India or, in his absence, the senior most Judge of the Supreme Court available, an oath or affirmation in the following form, that is to say – “I, A.B., do swear in the name of God / solemnly affirm that I will faithfully execute the office of President (or discharge the function of the President) of India and will to the best of my ability preserve, protect and defend the Constitution and the law and that I will devote myself to the service and well-being of the people of India.”\n",
      "\n",
      "Article 61: Procedure for Impeachment of the President\n",
      "(1) When a President is to be impeached for violation of the Constitution, the charge shall be preferred by either House of Parliament.\n",
      "\n",
      "(2) No such charge shall be preferred unless –\n",
      "(a) the proposal to prefer such charge is contained in a resolution which has been moved after at least fourteen days’ notice in writing signed by not less than one-fourth of the total number of members of the House has been given of their intention to move the resolution, and\n",
      "(b) such a resolution has been passed by a majority of not less than two-thirds of the total membership of the House.\n",
      "\n",
      "(3) When a charge has been so preferred by either House of Parliament, the other House shall investigate the charge or cause the charge to be investigated and the President shall have the right to appear and to be represented at such investigation.\n",
      "\n",
      "(4) If as a result of the investigation a resolution is passed by a majority of not less than two-thirds of the total membership of the House by which the charge was investigated or caused to be investigated, declaring that the charge preferred against the President has been sustained, such resolution shall have the effect of removing the President from his office as from the date on which the resolution is so passed.\n",
      "\n",
      "Article 62: Time of holding election to fill a vacancy in the office of President and the term of office or person elected to fill a casual vacancy\n",
      "(1) An election to fill a vacancy caused by the expiration of the term of office of President shall be completed before the expiration of the term.\n",
      "\n",
      "(2) An election to fill a vacancy in the office of President occurring because of his death, resignation or removal, or otherwise shall be held as soon as possible after, and in no case later than six months from, the date of occurrence of the vacancy; and the person elected to fill the vacancy shall, subject to the provisions of article 56, be entitled to hold office for the full term of five years from the date on which he enters upon his office.\n"
     ]
    }
   ],
   "source": [
    "filepath=\"large_file.txt\"\n",
    "for line in Read_file(filepath):\n",
    "    print(line.strip())"
   ]
  }
 ],
 "metadata": {
  "kernelspec": {
   "display_name": "base",
   "language": "python",
   "name": "python3"
  },
  "language_info": {
   "codemirror_mode": {
    "name": "ipython",
    "version": 3
   },
   "file_extension": ".py",
   "mimetype": "text/x-python",
   "name": "python",
   "nbconvert_exporter": "python",
   "pygments_lexer": "ipython3",
   "version": "3.13.5"
  }
 },
 "nbformat": 4,
 "nbformat_minor": 5
}
