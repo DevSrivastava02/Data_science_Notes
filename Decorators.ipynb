{
 "cells": [
  {
   "cell_type": "markdown",
   "id": "3c702852",
   "metadata": {},
   "source": [
    "Decorators"
   ]
  },
  {
   "cell_type": "markdown",
   "id": "8346cfc7",
   "metadata": {},
   "source": [
    "Decorators are a powerful and flexible in python that allow you ti modify the behavior of a function or class method. They are Commonly used to add functionality to function or methods without modifying their actual code. This lesson cover the basic of decorators,including how to create and use them"
   ]
  },
  {
   "cell_type": "code",
   "execution_count": 1,
   "id": "f68b9846",
   "metadata": {},
   "outputs": [
    {
     "data": {
      "text/plain": [
       "'Welcome to advanced pthone course'"
      ]
     },
     "execution_count": 1,
     "metadata": {},
     "output_type": "execute_result"
    }
   ],
   "source": [
    "#  function copy:\n",
    "def welcome():\n",
    "    return \"Welcome to advanced pthone course\"\n",
    "\n",
    "welcome()    "
   ]
  },
  {
   "cell_type": "code",
   "execution_count": null,
   "id": "8dd99813",
   "metadata": {},
   "outputs": [
    {
     "ename": "NameError",
     "evalue": "name 'welcome' is not defined",
     "output_type": "error",
     "traceback": [
      "\u001b[1;31m---------------------------------------------------------------------------\u001b[0m",
      "\u001b[1;31mNameError\u001b[0m                                 Traceback (most recent call last)",
      "Cell \u001b[1;32mIn[5], line 1\u001b[0m\n\u001b[1;32m----> 1\u001b[0m wel\u001b[38;5;241m=\u001b[39mwelcome\n\u001b[0;32m      2\u001b[0m wel()\n\u001b[0;32m      4\u001b[0m \u001b[38;5;28;01mdel\u001b[39;00m welcome\n",
      "\u001b[1;31mNameError\u001b[0m: name 'welcome' is not defined"
     ]
    }
   ],
   "source": [
    "\n",
    "wel=welcome\n",
    "wel()\n",
    "\n",
    "del welcome\n",
    "\n"
   ]
  },
  {
   "cell_type": "code",
   "execution_count": 6,
   "id": "97bf63ad",
   "metadata": {},
   "outputs": [
    {
     "data": {
      "text/plain": [
       "'Welcome to advanced pthone course'"
      ]
     },
     "execution_count": 6,
     "metadata": {},
     "output_type": "execute_result"
    }
   ],
   "source": [
    "wel()"
   ]
  },
  {
   "cell_type": "code",
   "execution_count": 11,
   "id": "3fb0f365",
   "metadata": {},
   "outputs": [],
   "source": [
    "#  closures\n",
    "\n",
    "def min_welcome():\n",
    "    msg=\"Welcome\"\n",
    "\n",
    "    #  we use the local variable \"msg\" inside the \"sub_welcome\" function:\n",
    "\n",
    "\n",
    "    def sub_welcome():\n",
    "        print(\"Welcome to advance python code\")\n",
    "        print(msg)\n",
    "\n",
    "        print(\"Learn the concep properly\")\n",
    "\n",
    "    return sub_welcome()   "
   ]
  },
  {
   "cell_type": "code",
   "execution_count": 10,
   "id": "9459da10",
   "metadata": {},
   "outputs": [
    {
     "name": "stdout",
     "output_type": "stream",
     "text": [
      "Welcome to advance python code\n",
      "Welcome\n",
      "Learn the concep properly\n"
     ]
    }
   ],
   "source": [
    "min_welcome()"
   ]
  },
  {
   "cell_type": "code",
   "execution_count": 16,
   "id": "05655d9d",
   "metadata": {},
   "outputs": [],
   "source": [
    "#  closures\n",
    "\n",
    "def min_welcome(func):\n",
    "    msg=\"Welcome\"\n",
    "\n",
    "    #  Use the function inside the sub function and if u can call with function paramter they replace :\n",
    "\n",
    "\n",
    "    def sub_welcome():\n",
    "        print(\"Welcome to advance python code\")\n",
    "        \n",
    "        func(msg)\n",
    "        func(\"Hello\")\n",
    "        print(\"Learn the concep properly\")\n",
    "\n",
    "    return sub_welcome()   "
   ]
  },
  {
   "cell_type": "code",
   "execution_count": 17,
   "id": "9c329d6d",
   "metadata": {},
   "outputs": [
    {
     "name": "stdout",
     "output_type": "stream",
     "text": [
      "Welcome to advance python code\n",
      "Welcome\n",
      "Hello\n",
      "Learn the concep properly\n"
     ]
    }
   ],
   "source": [
    "min_welcome(print)"
   ]
  },
  {
   "cell_type": "code",
   "execution_count": 23,
   "id": "20535ce5",
   "metadata": {},
   "outputs": [],
   "source": [
    "#  Decorator\n",
    "#  closures\n",
    "\n",
    "def min_welcome(func):\n",
    "    msg=\"Welcome\"\n",
    "\n",
    "    #  Use the function inside the sub function and if u can call with function paramter they replace :\n",
    "\n",
    "\n",
    "    def sub_welcome():\n",
    "        print(\"Welcome to advance python code\")\n",
    "        \n",
    "        func()\n",
    "        \n",
    "        print(\"Learn the concep properly\")\n",
    "\n",
    "    return sub_welcome()   \n"
   ]
  },
  {
   "cell_type": "code",
   "execution_count": 19,
   "id": "da39d317",
   "metadata": {},
   "outputs": [
    {
     "name": "stdout",
     "output_type": "stream",
     "text": [
      " This is the advance concept\n"
     ]
    }
   ],
   "source": [
    "#  create the custom method\n",
    "\n",
    "def course_introduction():\n",
    "    print(\" This is the advance concept\")\n",
    "\n",
    "course_introduction() "
   ]
  },
  {
   "cell_type": "code",
   "execution_count": 24,
   "id": "1bd0054b",
   "metadata": {},
   "outputs": [
    {
     "name": "stdout",
     "output_type": "stream",
     "text": [
      "Welcome to advance python code\n",
      " This is the advance concept\n",
      "Learn the concep properly\n"
     ]
    }
   ],
   "source": [
    "min_welcome(course_introduction)"
   ]
  },
  {
   "cell_type": "code",
   "execution_count": null,
   "id": "d5f4eae8",
   "metadata": {},
   "outputs": [
    {
     "name": "stdout",
     "output_type": "stream",
     "text": [
      "Welcome to advance python code\n",
      "This is the advantace python course\n",
      "Learn the concep properly\n"
     ]
    }
   ],
   "source": [
    "#  decoratore:\n",
    "# @ mainwelcome describe at the code it means the lowwer all the code aur function go inside the min_welcome function:\n",
    "\n",
    "@min_welcome\n",
    "def course_introduction():\n",
    "    print(\"This is the advantace python course\")"
   ]
  },
  {
   "cell_type": "code",
   "execution_count": 26,
   "id": "85a1e411",
   "metadata": {},
   "outputs": [],
   "source": [
    "#  Decorator\n",
    "def my_decorator(fun):\n",
    "    def wrappper():\n",
    "        print(\"Something is happening before the function is called\")\n",
    "        fun()\n",
    "        print(\"Somethings is happening after the function is called\")\n",
    "\n",
    "    return wrappper"
   ]
  },
  {
   "cell_type": "code",
   "execution_count": 27,
   "id": "3861563a",
   "metadata": {},
   "outputs": [],
   "source": [
    "@my_decorator\n",
    "def say_hello():\n",
    "    print(\"Hello it is the example of decorator\")"
   ]
  },
  {
   "cell_type": "code",
   "execution_count": 28,
   "id": "fcbdfaa5",
   "metadata": {},
   "outputs": [
    {
     "name": "stdout",
     "output_type": "stream",
     "text": [
      "Something is happening before the function is called\n",
      "Hello it is the example of decorator\n",
      "Somethings is happening after the function is called\n"
     ]
    }
   ],
   "source": [
    "say_hello()"
   ]
  },
  {
   "cell_type": "code",
   "execution_count": 29,
   "id": "a5749e64",
   "metadata": {},
   "outputs": [],
   "source": [
    "#  Decorator with arguments:\n",
    "def reapet(n):\n",
    "    def decorator(fun):\n",
    "        def wrapper(*args,**kwargs):\n",
    "            for _ in range(n):\n",
    "                fun(*args,**kwargs)\n",
    "        return wrapper\n",
    "    return decorator"
   ]
  },
  {
   "cell_type": "code",
   "execution_count": 30,
   "id": "99b090c2",
   "metadata": {},
   "outputs": [],
   "source": [
    "@reapet(3)\n",
    "def say_hello():\n",
    "    print(\"Hello\")"
   ]
  },
  {
   "cell_type": "code",
   "execution_count": 31,
   "id": "f552dd70",
   "metadata": {},
   "outputs": [
    {
     "name": "stdout",
     "output_type": "stream",
     "text": [
      "Hello\n",
      "Hello\n",
      "Hello\n"
     ]
    }
   ],
   "source": [
    "say_hello()"
   ]
  },
  {
   "cell_type": "markdown",
   "id": "1d7f3a92",
   "metadata": {},
   "source": []
  }
 ],
 "metadata": {
  "kernelspec": {
   "display_name": "base",
   "language": "python",
   "name": "python3"
  },
  "language_info": {
   "codemirror_mode": {
    "name": "ipython",
    "version": 3
   },
   "file_extension": ".py",
   "mimetype": "text/x-python",
   "name": "python",
   "nbconvert_exporter": "python",
   "pygments_lexer": "ipython3",
   "version": "3.13.5"
  }
 },
 "nbformat": 4,
 "nbformat_minor": 5
}
