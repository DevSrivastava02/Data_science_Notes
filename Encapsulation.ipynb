{
 "cells": [
  {
   "cell_type": "markdown",
   "id": "31528421",
   "metadata": {},
   "source": [
    "Encapsulation And Abstraction"
   ]
  },
  {
   "cell_type": "markdown",
   "id": "7b7c00a1",
   "metadata": {},
   "source": [
    "Encapsulation and abstraction are two fundamental principle of Object-Oriebted Programming (OOP) that help in designing robust, maintainable and reusable code. Encapsulation invlove bundling data ans methods athe operate on the data within a single unit ,while abstraction invlves hiding complex inplementation deatils and exposing only the necessary features."
   ]
  },
  {
   "cell_type": "markdown",
   "id": "f7be7ab7",
   "metadata": {},
   "source": [
    "#### Encapsulation"
   ]
  },
  {
   "cell_type": "markdown",
   "id": "92c0003c",
   "metadata": {},
   "source": [
    "Encapsulation is the concept of wrapping data (variables) and method (function) together as a single unit. it restrict direct acess to some of the object's components,which is a means of preventing accidentalinterface and misuse of the data"
   ]
  },
  {
   "cell_type": "code",
   "execution_count": 6,
   "id": "17f76378",
   "metadata": {},
   "outputs": [
    {
     "data": {
      "text/plain": [
       "'Dev'"
      ]
     },
     "execution_count": 6,
     "metadata": {},
     "output_type": "execute_result"
    }
   ],
   "source": [
    "### Encapsualtion with Getter and Setter Methods\n",
    "#  Public , Protected ,private variable\n",
    "\n",
    "class Person:\n",
    "    def __init__(self,name,age):\n",
    "        self.name=name  # This instance variable is public variable\n",
    "        self.age=age  # public variable\n",
    "\n",
    "# def get_name(man):\n",
    "#     return man.name \n",
    "\n",
    "# class Dog(Person):\n",
    "#     def name(self):\n",
    "#         pass      \n",
    "\n",
    "person=Person(\"Dev\",21)\n",
    "person.name"
   ]
  },
  {
   "cell_type": "code",
   "execution_count": null,
   "id": "9730540d",
   "metadata": {},
   "outputs": [],
   "source": [
    "### Encapsualtion with Getter and Setter Methods\n",
    "#  Public , Protected ,private variable\n",
    "\n",
    "class Person:\n",
    "    def __init__(self,name,age,gender):\n",
    "        self.__name=name  # This instance variable is Private variable __Variable_name ca be consider as the private variable\n",
    "        self.__age=age  # Private variable\n",
    "        self.gender=gender # Public variable   \n",
    "\n",
    "def get_name(person):\n",
    "    return person._Person__name # Private name this will say it was private the variable\n",
    "\n",
    "\n"
   ]
  },
  {
   "cell_type": "code",
   "execution_count": 15,
   "id": "3cf7ad98",
   "metadata": {},
   "outputs": [
    {
     "data": {
      "text/plain": [
       "'DEV'"
      ]
     },
     "execution_count": 15,
     "metadata": {},
     "output_type": "execute_result"
    }
   ],
   "source": [
    "#  Create the object:\n",
    "person=Person(\"DEV\",21,\"Male\")\n",
    "dir(person)\n",
    "get_name(person)"
   ]
  },
  {
   "cell_type": "code",
   "execution_count": 17,
   "id": "9bf8f95c",
   "metadata": {},
   "outputs": [
    {
     "data": {
      "text/plain": [
       "'Dev'"
      ]
     },
     "execution_count": 17,
     "metadata": {},
     "output_type": "execute_result"
    }
   ],
   "source": [
    "### Encapsualtion with Getter and Setter Methods\n",
    "#  Public , Protected ,private variable\n",
    "\n",
    "class Person:\n",
    "    def __init__(self,name,age,gender):\n",
    "        self._name=name        # Protected variable\n",
    "        self._age=age          # protected variable\n",
    "        self.gender=gender      # Public variable   \n",
    "\n",
    "class Employee(Person):\n",
    "    def __init__(self, name, age, gender):\n",
    "        super().__init__(name, age, gender)\n",
    "\n",
    "#  Private name this will say it was private the variable\n",
    "\n",
    "employee=Employee(\"Dev\",21,\"Male\")\n",
    "employee._name\n"
   ]
  },
  {
   "cell_type": "code",
   "execution_count": 18,
   "id": "1c9198ac",
   "metadata": {},
   "outputs": [],
   "source": [
    "#  Encapsualtion with Getter and Setter;\n",
    "\n",
    "class Person():\n",
    "    def __init__(self,name,age):\n",
    "        self.__name=name #Private Variable\n",
    "\n",
    "        self.age=age   #Public variable\n",
    "    # Getter Method for name\n",
    "    def get_name(self):\n",
    "        return self.__name\n",
    "    \n",
    "    # Setter methods:\n",
    "    def set_name(self,name):\n",
    "        self.__name=name"
   ]
  },
  {
   "cell_type": "code",
   "execution_count": 21,
   "id": "ba4b2c81",
   "metadata": {},
   "outputs": [
    {
     "data": {
      "text/plain": [
       "'Krishna'"
      ]
     },
     "execution_count": 21,
     "metadata": {},
     "output_type": "execute_result"
    }
   ],
   "source": [
    "#  call all the object:\n",
    "\n",
    "person=Person(\"Dev\",21)\n",
    "person.get_name()  # We can acces the private variable not Directly we will acess with the help of function(Getter methods)\n",
    "\n",
    "# Setter methods\n",
    "person.set_name(\"Krishna\")\n",
    "\n",
    "person.get_name()"
   ]
  },
  {
   "cell_type": "markdown",
   "id": "8df8c850",
   "metadata": {},
   "source": [
    "Abstraction"
   ]
  },
  {
   "cell_type": "markdown",
   "id": "e24478ac",
   "metadata": {},
   "source": [
    "Abstraction is the concept of hiding the complex implementaion details and showing only the necessary feature of the object. This helps in reducing programming complexity and effort."
   ]
  },
  {
   "cell_type": "code",
   "execution_count": 23,
   "id": "33990067",
   "metadata": {},
   "outputs": [
    {
     "name": "stdout",
     "output_type": "stream",
     "text": [
      "Car engine started\n"
     ]
    }
   ],
   "source": [
    "from abc import ABC ,abstractmethod\n",
    "\n",
    "# Abstract Class\n",
    "\n",
    "class Vehical(ABC):\n",
    "    def drive(self):\n",
    "        print(\"The Vehical is used for driving\")\n",
    "\n",
    "    @abstractmethod\n",
    "    def start_engine(self):\n",
    "        pass   \n",
    "\n",
    "\n",
    "class Car(Vehical):\n",
    "    def start_engine(self):\n",
    "        print(\"Car engine started\")\n",
    "\n",
    "def operate_vehical(vehical):\n",
    "    vehical.start_engine()\n",
    "    vehical.drive()\n",
    "            \n",
    "car=Car()\n",
    "car.start_engine()\n"
   ]
  }
 ],
 "metadata": {
  "kernelspec": {
   "display_name": "base",
   "language": "python",
   "name": "python3"
  },
  "language_info": {
   "codemirror_mode": {
    "name": "ipython",
    "version": 3
   },
   "file_extension": ".py",
   "mimetype": "text/x-python",
   "name": "python",
   "nbconvert_exporter": "python",
   "pygments_lexer": "ipython3",
   "version": "3.13.5"
  }
 },
 "nbformat": 4,
 "nbformat_minor": 5
}
