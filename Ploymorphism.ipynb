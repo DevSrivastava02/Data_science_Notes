{
 "cells": [
  {
   "cell_type": "markdown",
   "id": "654de15d",
   "metadata": {},
   "source": [
    "#### Ploymorphism"
   ]
  },
  {
   "cell_type": "markdown",
   "id": "5936ac96",
   "metadata": {},
   "source": [
    "Ploymorphism is a core concept in object-oriented programing (OOp) that allows object of different classes to be treated as object of a common superclass. It provide a way to perform a single action in different form . polymorphism is typically achived through method override and interfaces"
   ]
  },
  {
   "cell_type": "markdown",
   "id": "da51443e",
   "metadata": {},
   "source": [
    "#### Method Overriding:\n",
    "Method overriding allows achild class to provide a specific implemantaion of a method that is already defined in its parents class"
   ]
  },
  {
   "cell_type": "code",
   "execution_count": 7,
   "id": "541b6f2b",
   "metadata": {},
   "outputs": [
    {
     "name": "stdout",
     "output_type": "stream",
     "text": [
      "Woof!\n",
      "Meow!\n"
     ]
    }
   ],
   "source": [
    "### Method Overriding\n",
    "#  Create the base class\n",
    "class Animal:\n",
    "    def speak(self):\n",
    "        return \"Sound of the animal\"\n",
    "\n",
    "class Dog(Animal):\n",
    "    def speak(self):\n",
    "        return \"Woof!\"\n",
    "\n",
    "\n",
    "class cat(Animal):\n",
    "    def speak(self):\n",
    "        return \"Meow!\" \n",
    "\n",
    "# Function that demostrate the polymorphism:\n",
    "def animal_speak(Animal):\n",
    "    print(Animal.speak())\n",
    "\n",
    "# Create the object:\n",
    "dog1=Dog()\n",
    "cat1=cat()\n",
    "\n",
    "\n",
    "animal_speak(dog1)\n",
    "animal_speak(cat1)\n"
   ]
  },
  {
   "cell_type": "code",
   "execution_count": 8,
   "id": "ba9e5fff",
   "metadata": {},
   "outputs": [
    {
     "name": "stdout",
     "output_type": "stream",
     "text": [
      "The area is 12\n",
      "The area is 112.68\n"
     ]
    }
   ],
   "source": [
    "#  Polymorphissm with Function And Methods\n",
    "# Base class\n",
    "class Shape:\n",
    "    def area(self):\n",
    "        return \"The area Of the Figure\"\n",
    "    \n",
    "class Recatngle(Shape):\n",
    "    def __init__(self,width,hight):\n",
    "        # super().__init__() \n",
    "        self.width=width\n",
    "        self.hight=hight  \n",
    "\n",
    "\n",
    "    def area(self):\n",
    "        return self.width*self.hight\n",
    "\n",
    "\n",
    "# Derived class 2\n",
    "\n",
    "class Circle(Shape):\n",
    "    def __init__(self ,radius):\n",
    "        # super().__init__()\n",
    "        self.radius=radius\n",
    "    def area(self):\n",
    "        return 3.13*self.radius*self.radius\n",
    "\n",
    "# Function the demonstrate the polymorphism\n",
    "\n",
    "def print_area(shape):\n",
    "    print(f\"The area is {shape.area()}\")\n",
    "\n",
    "\n",
    "# create the object of them:\n",
    "\n",
    "recatngle=Recatngle(3,4)\n",
    "circle=Circle(6) \n",
    "\n",
    "print_area(recatngle)\n",
    "print_area(circle)\n",
    "                     \n",
    "    \n"
   ]
  },
  {
   "cell_type": "markdown",
   "id": "ed5d9611",
   "metadata": {},
   "source": [
    "#### Polymorphism with Abstract Base Classes\n",
    "\n",
    "Abstract base classes (ABCs) are used to defined common methods for a group of related object.They can enforce that derived classes implement particular methods,promoting consistency acress differnt implemenation"
   ]
  },
  {
   "cell_type": "code",
   "execution_count": 11,
   "id": "2870c80b",
   "metadata": {},
   "outputs": [
    {
     "name": "stdout",
     "output_type": "stream",
     "text": [
      "Car engine started\n"
     ]
    }
   ],
   "source": [
    "# Polymorphism with Abstract class:\n",
    "\n",
    "from abc import ABC,abstractmethod\n",
    "\n",
    "# Define an absrate class:\n",
    "class Vehicle(ABC):\n",
    "    @abstractmethod\n",
    "    def start_engine(self):\n",
    "        pass\n",
    "\n",
    "# Derived class 1\n",
    "class Car(Vehicle):\n",
    "    def start_engine(self):\n",
    "        return \"Car engine started\"\n",
    "    \n",
    "#Drived class 2:\n",
    "class Motercycle(Vehicle):\n",
    "\n",
    "    def start_engine(self):\n",
    "        return \"Motercycle engine starting\"\n",
    "    \n",
    "# #Function that demonstrate polymorphism:\n",
    "def start_vehical(vehical):\n",
    "    print(vehical.start_engine())\n",
    "\n",
    "\n",
    "    \n",
    "#  Create object of the car and Motorcycle:\n",
    "car=Car()\n",
    "motercycle=Motercycle()\n",
    "\n",
    "start_vehical(car)"
   ]
  }
 ],
 "metadata": {
  "kernelspec": {
   "display_name": "base",
   "language": "python",
   "name": "python3"
  },
  "language_info": {
   "codemirror_mode": {
    "name": "ipython",
    "version": 3
   },
   "file_extension": ".py",
   "mimetype": "text/x-python",
   "name": "python",
   "nbconvert_exporter": "python",
   "pygments_lexer": "ipython3",
   "version": "3.13.5"
  }
 },
 "nbformat": 4,
 "nbformat_minor": 5
}
