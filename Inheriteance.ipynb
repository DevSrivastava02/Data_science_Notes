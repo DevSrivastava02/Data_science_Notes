{
 "cells": [
  {
   "cell_type": "markdown",
   "id": "0dbff159",
   "metadata": {},
   "source": [
    "#### Inheritance In Python:"
   ]
  },
  {
   "cell_type": "markdown",
   "id": "72281bc6",
   "metadata": {},
   "source": [
    "Inheritance  is a fundamental concept on Object-Oriented Programming (OOPS) that allow a class to inherit attributes and method from another class. This lesson covers single inheritance and multiple inheritance demonstrating how to create and use them in python"
   ]
  },
  {
   "cell_type": "code",
   "execution_count": null,
   "id": "4ccceceb",
   "metadata": {},
   "outputs": [
    {
     "name": "stdout",
     "output_type": "stream",
     "text": [
      "The person will drive the Petrol\n",
      "None\n"
     ]
    }
   ],
   "source": [
    "#  Inheritance(Single Inheritance):\n",
    "\n",
    "#  Define the parent class:\n",
    "class car:\n",
    "    def __init__(self,window,door,enginetype):\n",
    "        self.window=window\n",
    "        self.door=door\n",
    "        self.enginetype=enginetype      \n",
    "\n",
    "    def drive(self):\n",
    "        print(f\"The person will drive the {self.enginetype}\")  \n",
    "\n",
    "car1=car(4,5,\"Petrol\")\n",
    "print(car1.drive())            \n",
    "\n"
   ]
  },
  {
   "cell_type": "code",
   "execution_count": 8,
   "id": "6f1a889a",
   "metadata": {},
   "outputs": [
    {
     "name": "stdout",
     "output_type": "stream",
     "text": [
      " The Tesla car also have the window= 4\n",
      " it is automated and not use Petrol \n",
      "than it is self driving car False\n",
      "4\n",
      "The person will drive the Petrol\n"
     ]
    }
   ],
   "source": [
    "#  The car class are the blue print of the car:\n",
    "#  create the new class which inherit the car class:\n",
    "\n",
    "class telsa(car):\n",
    "    def __init__(self, window, door, enginetype,automation):\n",
    "        super().__init__(window, door, enginetype)  # If we can use the super key world  means we Can call the parent class .init means class init function\n",
    "        self.automation=automation\n",
    "\n",
    "    def self_driving(self):\n",
    "        print(f\" The Tesla car also have the window= {self.window}\\n it is automated and not use {self.enginetype} \\nthan it is self driving car {self.automation}\")    \n",
    "\n",
    "\n",
    "\n",
    "# call the Class:\n",
    "tesla1=telsa(4,2,\"Petrol\",False) \n",
    "\n",
    "tesla1.self_driving()\n",
    "print(tesla1.window)\n",
    "tesla1.drive()\n"
   ]
  },
  {
   "cell_type": "code",
   "execution_count": null,
   "id": "52a87d76",
   "metadata": {},
   "outputs": [],
   "source": [
    "#  Multiple inhertiance class:\n",
    "#  mean a class inherits from more than one base class:\n",
    "#   Base class 1:\n",
    "class Animal:\n",
    "    def __init__(self,name):\n",
    "        self.name=name\n",
    "\n",
    "    def speak(self):\n",
    "        print(f\"Sub class implement this method\")"
   ]
  },
  {
   "cell_type": "code",
   "execution_count": null,
   "id": "d6b97808",
   "metadata": {},
   "outputs": [],
   "source": [
    "#  Base Class 2:\n",
    "\n",
    "class pet:\n",
    "    def __init__(self,owner):\n",
    "        self.owner=owner\n"
   ]
  },
  {
   "cell_type": "code",
   "execution_count": 25,
   "id": "6cd5764f",
   "metadata": {},
   "outputs": [],
   "source": [
    "#  Derived Class:\n",
    "class Dog11(Animal,pet):\n",
    "    def __init__(self, name,owner,Color):\n",
    "        Animal.__init__(self,name)\n",
    "        pet.__init__(self,owner)\n",
    "        self.color=Color\n",
    " # If we call 2 parent class then we cant use super() key word instance of this we will use name of super class \n",
    "    def brak(self):\n",
    "        print(f\"The {self.color} Dog is bark and\\n her Owner {self.owner}\\n are call {self.name}\")\n"
   ]
  },
  {
   "cell_type": "code",
   "execution_count": 28,
   "id": "28bd9d46",
   "metadata": {},
   "outputs": [
    {
     "name": "stdout",
     "output_type": "stream",
     "text": [
      "The White Dog is bark and\n",
      " her Owner Amit\n",
      " are call Buddy\n"
     ]
    },
    {
     "data": {
      "text/plain": [
       "'Buddy'"
      ]
     },
     "execution_count": 28,
     "metadata": {},
     "output_type": "execute_result"
    }
   ],
   "source": [
    "#  Create the object:\n",
    "Dog1=Dog11(\"Buddy\",\"Amit\",\"White\")\n",
    "Dog1.brak()\n",
    "Dog1.name"
   ]
  }
 ],
 "metadata": {
  "kernelspec": {
   "display_name": "base",
   "language": "python",
   "name": "python3"
  },
  "language_info": {
   "codemirror_mode": {
    "name": "ipython",
    "version": 3
   },
   "file_extension": ".py",
   "mimetype": "text/x-python",
   "name": "python",
   "nbconvert_exporter": "python",
   "pygments_lexer": "ipython3",
   "version": "3.13.5"
  }
 },
 "nbformat": 4,
 "nbformat_minor": 5
}
