{
 "cells": [
  {
   "cell_type": "markdown",
   "id": "6af779c6",
   "metadata": {},
   "source": [
    "Iteators\n"
   ]
  },
  {
   "cell_type": "markdown",
   "id": "2a6b1745",
   "metadata": {},
   "source": [
    "iterators are advanced python concepts that allows for efficient looping and memory management . Iterators proving a way to access element of a collection sequentially without exposing the inderlying strucure"
   ]
  },
  {
   "cell_type": "code",
   "execution_count": 3,
   "id": "0182535f",
   "metadata": {},
   "outputs": [
    {
     "name": "stdout",
     "output_type": "stream",
     "text": [
      "1 2 3 4 5 6 "
     ]
    }
   ],
   "source": [
    "my_lsit=[1,2,3,4,5,6]\n",
    "for i in my_lsit:\n",
    "    print(i,end=\" \")"
   ]
  },
  {
   "cell_type": "code",
   "execution_count": 5,
   "id": "b53f2165",
   "metadata": {},
   "outputs": [
    {
     "name": "stdout",
     "output_type": "stream",
     "text": [
      "<list_iterator object at 0x000002920D5C1A20>\n"
     ]
    }
   ],
   "source": [
    "#  Iterator\n",
    "iterator=iter(my_lsit)\n",
    "print(iterator)"
   ]
  },
  {
   "cell_type": "code",
   "execution_count": 12,
   "id": "a744a2ce",
   "metadata": {},
   "outputs": [
    {
     "ename": "StopIteration",
     "evalue": "",
     "output_type": "error",
     "traceback": [
      "\u001b[1;31m---------------------------------------------------------------------------\u001b[0m",
      "\u001b[1;31mStopIteration\u001b[0m                             Traceback (most recent call last)",
      "Cell \u001b[1;32mIn[12], line 2\u001b[0m\n\u001b[0;32m      1\u001b[0m \u001b[38;5;66;03m#  Iterater through all the element\u001b[39;00m\n\u001b[1;32m----> 2\u001b[0m \u001b[38;5;28mnext\u001b[39m(iterator)\n",
      "\u001b[1;31mStopIteration\u001b[0m: "
     ]
    }
   ],
   "source": [
    "#  Iterater through all the element\n",
    "next(iterator)"
   ]
  },
  {
   "cell_type": "code",
   "execution_count": 24,
   "id": "3bad98d2",
   "metadata": {},
   "outputs": [],
   "source": [
    "my_lsit=[1,2,3,4,5,6]\n",
    "iteratr=iter(my_lsit)"
   ]
  },
  {
   "cell_type": "code",
   "execution_count": 32,
   "id": "9c652141",
   "metadata": {},
   "outputs": [
    {
     "name": "stdout",
     "output_type": "stream",
     "text": [
      " the Value inside the list was end!!!\n"
     ]
    }
   ],
   "source": [
    "#  Handle the exception: \n",
    "try:\n",
    "    print(next(iteratr))\n",
    "\n",
    "except StopIteration:\n",
    "    print(' the Value inside the list was end!!!')    "
   ]
  }
 ],
 "metadata": {
  "kernelspec": {
   "display_name": "base",
   "language": "python",
   "name": "python3"
  },
  "language_info": {
   "codemirror_mode": {
    "name": "ipython",
    "version": 3
   },
   "file_extension": ".py",
   "mimetype": "text/x-python",
   "name": "python",
   "nbconvert_exporter": "python",
   "pygments_lexer": "ipython3",
   "version": "3.13.5"
  }
 },
 "nbformat": 4,
 "nbformat_minor": 5
}
