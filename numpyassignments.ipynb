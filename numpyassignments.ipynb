{
 "cells": [
  {
   "cell_type": "markdown",
   "metadata": {},
   "source": [
    "# Module: NumPy Assignments\n",
    "## Lesson: NumPy\n",
    "### Assignment 1: Array Creation and Manipulation\n",
    "\n",
    "1. Create a NumPy array of shape (5, 5) filled with random integers between 1 and 20. Replace all the elements in the third column with 1.\n",
    "2. Create a NumPy array of shape (4, 4) with values from 1 to 16. Replace the diagonal elements with 0.\n",
    "\n",
    "### Assignment 2: Array Indexing and Slicing\n",
    "\n",
    "1. Create a NumPy array of shape (6, 6) with values from 1 to 36. Extract the sub-array consisting of the 3rd to 5th rows and 2nd to 4th columns.\n",
    "2. Create a NumPy array of shape (5, 5) with random integers. Extract the elements on the border.\n",
    "\n",
    "### Assignment 3: Array Operations\n",
    "\n",
    "1. Create two NumPy arrays of shape (3, 4) filled with random integers. Perform element-wise addition, subtraction, multiplication, and division.\n",
    "2. Create a NumPy array of shape (4, 4) with values from 1 to 16. Compute the row-wise and column-wise sum.\n",
    "\n",
    "### Assignment 4: Statistical Operations\n",
    "\n",
    "1. Create a NumPy array of shape (5, 5) filled with random integers. Compute the mean, median, standard deviation, and variance of the array.\n",
    "2. Create a NumPy array of shape (3, 3) with values from 1 to 9. Normalize the array (i.e., scale the values to have a mean of 0 and a standard deviation of 1).\n",
    "\n",
    "### Assignment 5: Broadcasting\n",
    "\n",
    "1. Create a NumPy array of shape (3, 3) filled with random integers. Add a 1D array of shape (3,) to each row of the 2D array using broadcasting.\n",
    "2. Create a NumPy array of shape (4, 4) filled with random integers. Subtract a 1D array of shape (4,) from each column of the 2D array using broadcasting.\n",
    "\n",
    "### Assignment 6: Linear Algebra\n",
    "\n",
    "1. Create a NumPy array of shape (3, 3) representing a matrix. Compute its determinant, inverse, and eigenvalues.\n",
    "2. Create two NumPy arrays of shape (2, 3) and (3, 2). Perform matrix multiplication on these arrays.\n",
    "\n",
    "### Assignment 7: Advanced Array Manipulation\n",
    "\n",
    "1. Create a NumPy array of shape (3, 3) with values from 1 to 9. Reshape the array to shape (1, 9) and then to shape (9, 1).\n",
    "2. Create a NumPy array of shape (5, 5) filled with random integers. Flatten the array and then reshape it back to (5, 5).\n",
    "\n",
    "### Assignment 8: Fancy Indexing and Boolean Indexing\n",
    "\n",
    "1. Create a NumPy array of shape (5, 5) filled with random integers. Use fancy indexing to extract the elements at the corners of the array.\n",
    "2. Create a NumPy array of shape (4, 4) filled with random integers. Use boolean indexing to set all elements greater than 10 to 10.\n",
    "\n",
    "### Assignment 9: Structured Arrays\n",
    "\n",
    "1. Create a structured array with fields 'name' (string), 'age' (integer), and 'weight' (float). Add some data and sort the array by age.\n",
    "2. Create a structured array with fields 'x' and 'y' (both integers). Add some data and compute the Euclidean distance between each pair of points.\n",
    "\n",
    "### Assignment 10: Masked Arrays\n",
    "\n",
    "1. Create a masked array of shape (4, 4) with random integers and mask the elements greater than 10. Compute the sum of the unmasked elements.\n",
    "2. Create a masked array of shape (3, 3) with random integers and mask the diagonal elements. Replace the masked elements with the mean of the unmasked elements."
   ]
  },
  {
   "cell_type": "code",
   "execution_count": null,
   "metadata": {},
   "outputs": [],
   "source": []
  },
  {
   "cell_type": "markdown",
   "id": "898bc55f",
   "metadata": {},
   "source": [
    " Module: NumPy Assignments\n",
    "## Lesson: NumPy\n",
    "### Assignment 1: Array Creation and Manipulation\n",
    "\n",
    "1. Create a NumPy array of shape (5, 5) filled with random integers between 1 and 20. Replace all the elements in the third column with 1.\n",
    "\n"
   ]
  },
  {
   "cell_type": "code",
   "execution_count": 2,
   "id": "94f026c1",
   "metadata": {},
   "outputs": [
    {
     "name": "stdout",
     "output_type": "stream",
     "text": [
      "[[ 4 17 29  4 10]\n",
      " [41 20 20 26  5]\n",
      " [19  8 36  1 42]\n",
      " [26 17  5  2 10]\n",
      " [10 20 31  8 22]]\n",
      "\n",
      "[[ 4 17 29  4 10]\n",
      " [41 20 20 26  5]\n",
      " [ 1  1  1  1  1]\n",
      " [26 17  5  2 10]\n",
      " [10 20 31  8 22]]\n"
     ]
    }
   ],
   "source": [
    "import numpy as np\n",
    "arr=np.random.randint(1,50,size=[5,5])\n",
    "print(arr)\n",
    "print(\"\")\n",
    "arr[2]=1\n",
    "print(arr)"
   ]
  },
  {
   "cell_type": "markdown",
   "id": "ff56d106",
   "metadata": {},
   "source": [
    "2. Create a NumPy array of shape (4, 4) with values from 1 to 16. Replace the diagonal elements with 0."
   ]
  },
  {
   "cell_type": "code",
   "execution_count": 3,
   "id": "60d3ea0f",
   "metadata": {},
   "outputs": [
    {
     "name": "stdout",
     "output_type": "stream",
     "text": [
      "[[ 1  2  3  4]\n",
      " [ 5  6  7  8]\n",
      " [ 9 10 11 12]\n",
      " [13 14 15 16]]\n",
      "\n",
      "[[ 0  2  3  4]\n",
      " [ 5  0  7  8]\n",
      " [ 9 10  0 12]\n",
      " [13 14 15  0]]\n"
     ]
    }
   ],
   "source": [
    "arr=np.arange(1,17).reshape(4,4)\n",
    "print(arr)\n",
    "print(\"\")\n",
    "\n",
    "np.fill_diagonal(arr,0)\n",
    "print(arr)"
   ]
  },
  {
   "cell_type": "markdown",
   "id": "de5aa5dc",
   "metadata": {},
   "source": [
    "### Assignment 2: Array Indexing and Slicing\n",
    "\n",
    "1. Create a NumPy array of shape (6, 6) with values from 1 to 36. Extract the sub-array consisting of the 3rd to 5th rows and 2nd to 4th columns.\n",
    "2. Create a NumPy array of shape (5, 5) with random integers. Extract the elements on the border.\n"
   ]
  },
  {
   "cell_type": "code",
   "execution_count": 4,
   "id": "80841068",
   "metadata": {},
   "outputs": [
    {
     "name": "stdout",
     "output_type": "stream",
     "text": [
      "[[ 1  2  3  4  5  6]\n",
      " [ 7  8  9 10 11 12]\n",
      " [13 14 15 16 17 18]\n",
      " [19 20 21 22 23 24]\n",
      " [25 26 27 28 29 30]\n",
      " [31 32 33 34 35 36]]\n",
      "\n",
      "[[16 17 18]\n",
      " [22 23 24]\n",
      " [28 29 30]]\n",
      "\n",
      "[[54 58 10 51 97]\n",
      " [51 61 55  7  5]\n",
      " [89  4 14 85 60]\n",
      " [14 30 32 27  0]\n",
      " [70 23 10  3 83]]\n",
      "\n",
      "[54 58 10 51 97 70 23 10  3 83 51 89 14  5 60  0]\n"
     ]
    }
   ],
   "source": [
    "arr=np.arange(1,37).reshape(6,6)\n",
    "print(arr)\n",
    "print(\"\")\n",
    "print(arr[2:5,3:])\n",
    "print(\"\")\n",
    "\n",
    "arr_random=np.random.randint(100,size=[5,5])\n",
    "print(arr_random)\n",
    "\n",
    "print(\"\")\n",
    "\n",
    "Border_elements=np.concatenate([\n",
    "arr_random[0,:],\n",
    "arr_random[-1,:],\n",
    "arr_random[1:-1,0],\n",
    "arr_random[1:-1,-1]]\n",
    "\n",
    ")\n",
    "print(Border_elements)\n"
   ]
  },
  {
   "cell_type": "markdown",
   "id": "cc7b604d",
   "metadata": {},
   "source": [
    "### Assignment 3: Array Operations\n",
    "\n",
    "1. Create two NumPy arrays of shape (3, 4) filled with random integers. Perform element-wise addition, subtraction, multiplication, and division.\n"
   ]
  },
  {
   "cell_type": "code",
   "execution_count": 5,
   "id": "61dd6ce4",
   "metadata": {},
   "outputs": [
    {
     "name": "stdout",
     "output_type": "stream",
     "text": [
      "[[77 46 93 66]\n",
      " [49 41 18 93]\n",
      " [17 45 98  3]] \n",
      " [[11 58 11 55]\n",
      " [77 35 83 15]\n",
      " [35  7 61 21]]\n",
      "\n",
      "[[ 88 104 104 121]\n",
      " [126  76 101 108]\n",
      " [ 52  52 159  24]]\n",
      "\n",
      "[[ 66 -12  82  11]\n",
      " [-28   6 -65  78]\n",
      " [-18  38  37 -18]]\n",
      "\n",
      "[[ 847 2668 1023 3630]\n",
      " [3773 1435 1494 1395]\n",
      " [ 595  315 5978   63]]\n",
      "\n",
      "[[7.         0.79310345 8.45454545 1.2       ]\n",
      " [0.63636364 1.17142857 0.21686747 6.2       ]\n",
      " [0.48571429 6.42857143 1.60655738 0.14285714]]\n"
     ]
    }
   ],
   "source": [
    "arr=np.random.randint(100,size=(3,4))\n",
    "arr1=np.random.randint(100,size=(3,4))\n",
    "print(arr,\"\\n\",arr1)\n",
    "\n",
    "print(\"\")\n",
    "print(arr+arr1)\n",
    "\n",
    "print(\"\")\n",
    "print(arr-arr1)\n",
    "print(\"\")\n",
    "print(arr*arr1)\n",
    "print(\"\")\n",
    "print(arr/arr1)"
   ]
  },
  {
   "cell_type": "markdown",
   "id": "96076864",
   "metadata": {},
   "source": [
    "2. Create a NumPy array of shape (4, 4) with values from 1 to 16. Compute the row-wise and column-wise sum."
   ]
  },
  {
   "cell_type": "code",
   "execution_count": 6,
   "id": "cd15134d",
   "metadata": {},
   "outputs": [
    {
     "name": "stdout",
     "output_type": "stream",
     "text": [
      "[[ 1  2  3  4]\n",
      " [ 5  6  7  8]\n",
      " [ 9 10 11 12]\n",
      " [13 14 15 16]]\n",
      "\n",
      "Coloumns -wise sum: [28 32 36 40]\n",
      "Row -wise sum     : [10 26 42 58]\n"
     ]
    }
   ],
   "source": [
    "arr=np.arange(1,17).reshape(4,4)\n",
    "print(arr)\n",
    "print(\"\")\n",
    "print(\"Coloumns -wise sum:\",np.sum(arr, axis=0))\n",
    "print(\"Row -wise sum     :\",np.sum(arr,axis=1))"
   ]
  },
  {
   "cell_type": "markdown",
   "id": "39cb885a",
   "metadata": {},
   "source": [
    "### Assignment 4: Statistical Operations\n",
    "\n",
    "1. Create a NumPy array of shape (5, 5) filled with random integers. Compute the mean, median, standard deviation, and variance of the array.\n",
    "\n"
   ]
  },
  {
   "cell_type": "code",
   "execution_count": 7,
   "id": "923d8c48",
   "metadata": {},
   "outputs": [
    {
     "name": "stdout",
     "output_type": "stream",
     "text": [
      "[[56 65 90 32  4]\n",
      " [30 54 45 45 91]\n",
      " [37 22 46  4 45]\n",
      " [55 53 81 95 34]\n",
      " [18 42 97 62 86]]\n",
      "\n",
      "51.56\n",
      "46.0\n",
      "26.465192234329226\n",
      "700.4064\n"
     ]
    }
   ],
   "source": [
    "arr=np.random.randint(100,size=(5,5))\n",
    "print(arr)\n",
    "print(\"\")\n",
    "print(np.mean(arr))\n",
    "print(np.median(arr))\n",
    "print(np.std(arr))\n",
    "print(np.var(arr))"
   ]
  },
  {
   "cell_type": "markdown",
   "id": "38f35c53",
   "metadata": {},
   "source": [
    ". Create a NumPy array of shape (3, 3) with values from 1 to 9. Normalize the array (i.e., scale the values to have a mean of 0 and a standard deviation of 1)."
   ]
  },
  {
   "cell_type": "code",
   "execution_count": 8,
   "id": "99ff4234",
   "metadata": {},
   "outputs": [
    {
     "name": "stdout",
     "output_type": "stream",
     "text": [
      "[[1 2 3]\n",
      " [4 5 6]\n",
      " [7 8 9]]\n",
      "Normalization of arr:\n",
      "[[ 1.54919334  1.161895    0.77459667]\n",
      " [ 0.38729833  0.         -0.38729833]\n",
      " [-0.77459667 -1.161895   -1.54919334]]\n"
     ]
    }
   ],
   "source": [
    "arr=np.arange(1,10).reshape(3,3)\n",
    "print(arr)\n",
    "print(\"Normalization of arr:\")\n",
    "mean=arr.mean()\n",
    "std=arr.std()\n",
    "\n",
    "Normalization=(mean-arr)/std\n",
    "print(Normalization)"
   ]
  },
  {
   "cell_type": "markdown",
   "id": "1414f081",
   "metadata": {},
   "source": [
    "### Assignment 5: Broadcasting\n",
    "\n",
    "1. Create a NumPy array of shape (3, 3) filled with random integers. Add a 1D array of shape (3,) to each row of the 2D array using broadcasting.\n",
    "2. "
   ]
  },
  {
   "cell_type": "code",
   "execution_count": 9,
   "id": "06e9e802",
   "metadata": {},
   "outputs": [
    {
     "name": "stdout",
     "output_type": "stream",
     "text": [
      "[[26 22 51]\n",
      " [59 59  3]\n",
      " [58 22 44]]\n",
      "\n",
      "[[27 24 54]\n",
      " [60 61  6]\n",
      " [59 24 47]]\n"
     ]
    }
   ],
   "source": [
    "arr=np.random.randint(100,size=(3,3))\n",
    "print(arr)\n",
    "\n",
    "arr1=[1,2,3]\n",
    "\n",
    "print(\"\")\n",
    "\n",
    "arr=arr+arr1\n",
    "print(arr)"
   ]
  },
  {
   "cell_type": "markdown",
   "id": "f9d58233",
   "metadata": {},
   "source": [
    "Create a NumPy array of shape (4, 4) filled with random integers. Subtract a 1D array of shape (4,) from each column of the 2D array using broadcasting."
   ]
  },
  {
   "cell_type": "code",
   "execution_count": null,
   "id": "de0de70d",
   "metadata": {},
   "outputs": [
    {
     "name": "stdout",
     "output_type": "stream",
     "text": [
      "[[ 0 11  5 88]\n",
      " [ 9 51 61 26]\n",
      " [94 16 42 77]\n",
      " [93 53 31 25]]\n",
      "(4,)\n",
      "\n",
      "[[-1  9  2 84]\n",
      " [ 8 49 58 22]\n",
      " [93 14 39 73]\n",
      " [92 51 28 21]]\n"
     ]
    }
   ],
   "source": [
    "arr=np.random.randint(100,size=(4,4))\n",
    "print(arr)\n",
    "\n",
    "arr1=np.array([1,2,3,4])\n",
    "\n",
    "\n",
    "print(\"\")\n",
    "\n",
    "arr=arr-arr1\n",
    "print(arr)"
   ]
  },
  {
   "cell_type": "markdown",
   "id": "0156ea6b",
   "metadata": {},
   "source": [
    "### Assignment 6: Linear Algebra\n",
    "\n",
    "1. Create a NumPy array of shape (3, 3) representing a matrix. Compute its determinant, inverse, and eigenvalues.\n",
    "2. "
   ]
  },
  {
   "cell_type": "code",
   "execution_count": 45,
   "id": "f6a1dbd7",
   "metadata": {},
   "outputs": [
    {
     "name": "stdout",
     "output_type": "stream",
     "text": [
      "Matrix:\n",
      "[[2 1 3]\n",
      " [1 0 2]\n",
      " [4 1 8]]\n",
      "\n",
      "Determinant:\n",
      "-1.0\n",
      "\n",
      "Inverse:\n",
      "[[ 2.  5. -2.]\n",
      " [ 0. -4.  1.]\n",
      " [-1. -2.  1.]]\n",
      "\n",
      "Eigenvalues:\n",
      "[ 9.88864745  0.37851665 -0.26716411]\n"
     ]
    }
   ],
   "source": [
    "import numpy as np\n",
    "\n",
    "# Create a 3x3 matrix\n",
    "matrix = np.array([[2, 1, 3],\n",
    "                   [1, 0, 2],\n",
    "                   [4, 1, 8]])\n",
    "\n",
    "print(\"Matrix:\")\n",
    "print(matrix)\n",
    "\n",
    "# Determinant\n",
    "det = np.linalg.det(matrix)\n",
    "print(\"\\nDeterminant:\")\n",
    "print(det)\n",
    "\n",
    "# Inverse (only if determinant ≠ 0)\n",
    "if np.isclose(det, 0):\n",
    "    print(\"\\nInverse:\")\n",
    "    print(\"Matrix is singular, inverse does not exist.\")\n",
    "else:\n",
    "    inverse = np.linalg.inv(matrix)\n",
    "    print(\"\\nInverse:\")\n",
    "    print(inverse)\n",
    "\n",
    "# Eigenvalues\n",
    "eigenvalues = np.linalg.eigvals(matrix)\n",
    "print(\"\\nEigenvalues:\")\n",
    "print(eigenvalues)\n"
   ]
  },
  {
   "cell_type": "markdown",
   "id": "30d4098c",
   "metadata": {},
   "source": [
    "Create two NumPy arrays of shape (2, 3) and (3, 2). Perform matrix multiplication on these arrays."
   ]
  },
  {
   "cell_type": "code",
   "execution_count": 54,
   "id": "c0fa621f",
   "metadata": {},
   "outputs": [
    {
     "name": "stdout",
     "output_type": "stream",
     "text": [
      "[[38 29]\n",
      " [92 71]]\n"
     ]
    }
   ],
   "source": [
    "arr=np.array([[1,2,3],[4,5,6]])\n",
    "arr1=np.array([[5,4],[6,5],[7,5]])\n",
    "mul=np.dot(arr,arr1)\n",
    "print(mul)"
   ]
  },
  {
   "cell_type": "markdown",
   "id": "6fb8cbd4",
   "metadata": {},
   "source": [
    "### Assignment 7: Advanced Array Manipulation\n",
    "\n",
    "1. Create a NumPy array of shape (3, 3) with values from 1 to 9. Reshape the array to shape (1, 9) and then to shape (9, 1).\n",
    "2. \n"
   ]
  },
  {
   "cell_type": "code",
   "execution_count": 60,
   "id": "8c14dab1",
   "metadata": {},
   "outputs": [
    {
     "name": "stdout",
     "output_type": "stream",
     "text": [
      "[[1 2 3]\n",
      " [4 5 6]\n",
      " [7 8 9]]\n",
      "reshap the array(1.9)\n",
      " [[1 2 3 4 5 6 7 8 9]]\n",
      "REshape the array into (9,1)\n",
      " [[1]\n",
      " [2]\n",
      " [3]\n",
      " [4]\n",
      " [5]\n",
      " [6]\n",
      " [7]\n",
      " [8]\n",
      " [9]]\n"
     ]
    }
   ],
   "source": [
    "arr=np.arange(1,10).reshape(3,3)\n",
    "print(arr)\n",
    "print(\"reshap the array(1.9)\\n\",arr.reshape(1,9))\n",
    "print(\"REshape the array into (9,1)\\n\",arr.reshape(9,1))"
   ]
  },
  {
   "cell_type": "markdown",
   "id": "0074c251",
   "metadata": {},
   "source": [
    "Create a NumPy array of shape (5, 5) filled with random integers. Flatten the array and then reshape it back to (5, 5)."
   ]
  },
  {
   "cell_type": "code",
   "execution_count": 65,
   "id": "1aab923a",
   "metadata": {},
   "outputs": [
    {
     "name": "stdout",
     "output_type": "stream",
     "text": [
      "[[24 21 49 19  1]\n",
      " [90 42 23 83 67]\n",
      " [95 96 62 51 96]\n",
      " [42 63 78 81 72]\n",
      " [39 76 69 23 48]]\n",
      "[24 21 49 19  1 90 42 23 83 67 95 96 62 51 96 42 63 78 81 72 39 76 69 23\n",
      " 48]\n"
     ]
    },
    {
     "data": {
      "text/plain": [
       "array([[24, 21, 49, 19,  1],\n",
       "       [90, 42, 23, 83, 67],\n",
       "       [95, 96, 62, 51, 96],\n",
       "       [42, 63, 78, 81, 72],\n",
       "       [39, 76, 69, 23, 48]], dtype=int32)"
      ]
     },
     "execution_count": 65,
     "metadata": {},
     "output_type": "execute_result"
    }
   ],
   "source": [
    "arr=np.random.randint(100,size=(5,5))\n",
    "print(arr)\n",
    "one_d_array=arr.flatten()\n",
    "print(one_d_array)\n",
    "\n",
    "one_d_array.reshape(5,5)"
   ]
  },
  {
   "cell_type": "markdown",
   "id": "835bb8e6",
   "metadata": {},
   "source": [
    "### Assignment 8: Fancy Indexing and Boolean Indexing\n",
    "\n",
    "1. Create a NumPy array of shape (5, 5) filled with random integers. Use fancy indexing to extract the elements at the corners of the array.\n",
    "2. .\n"
   ]
  },
  {
   "cell_type": "code",
   "execution_count": 83,
   "id": "6843c73f",
   "metadata": {},
   "outputs": [
    {
     "name": "stdout",
     "output_type": "stream",
     "text": [
      "Original Array:\n",
      "[[23 67 91 75 66]\n",
      " [63 34 35 81  5]\n",
      " [77 66 91 60 77]\n",
      " [62 75  1 75 59]\n",
      " [46 22 51 71 38]]\n",
      "\n",
      "Corner Elements:\n",
      "[23 66 46 38]\n"
     ]
    }
   ],
   "source": [
    "import numpy as np\n",
    "\n",
    "# Create a 5x5 array with random integers (e.g., from 0 to 99)\n",
    "arr = np.random.randint(0, 100, size=(5, 5))\n",
    "\n",
    "print(\"Original Array:\")\n",
    "print(arr)\n",
    "\n",
    "# Fancy indexing for corner elements\n",
    "corner_elements = arr[[0,0,4,4],[0,4,0,4]]\n",
    "\n",
    "print(\"\\nCorner Elements:\")\n",
    "print(corner_elements)\n"
   ]
  },
  {
   "cell_type": "markdown",
   "id": "5f1a3aa0",
   "metadata": {},
   "source": [
    "Create a NumPy array of shape (4, 4) filled with random integers. Use boolean indexing to set all elements greater than 10 to 10"
   ]
  },
  {
   "cell_type": "code",
   "execution_count": 89,
   "id": "a962e4aa",
   "metadata": {},
   "outputs": [
    {
     "name": "stdout",
     "output_type": "stream",
     "text": [
      "[[39 14 80 27]\n",
      " [24 72 18 44]\n",
      " [ 8  3 97 64]\n",
      " [86 49 80 96]]\n",
      "\n",
      "[[10 10 10 10]\n",
      " [10 10 10 10]\n",
      " [ 8  3 10 10]\n",
      " [10 10 10 10]]\n"
     ]
    }
   ],
   "source": [
    "arr=np.random.randint(100,size=(4,4))\n",
    "print(arr)\n",
    "\n",
    "arr[arr>=10]=10\n",
    "\n",
    "print(\"\")\n",
    "print(arr)"
   ]
  },
  {
   "cell_type": "markdown",
   "id": "813edefa",
   "metadata": {},
   "source": [
    "### Assignment 9: Structured Arrays\n",
    "\n",
    "1. Create a structured array with fields 'name' (string), 'age' (integer), and 'weight' (float). Add some data and sort the array by age.\n",
    "2.\n",
    "\n"
   ]
  },
  {
   "cell_type": "code",
   "execution_count": 90,
   "id": "1e87bac2",
   "metadata": {},
   "outputs": [
    {
     "name": "stdout",
     "output_type": "stream",
     "text": [
      "Original array:\n",
      "[('Alice', 25, 55.5) ('Bob', 30, 85.3) ('Charlie', 20, 65.2)]\n",
      "Sorted array by age:\n",
      "[('Charlie', 20, 65.2) ('Alice', 25, 55.5) ('Bob', 30, 85.3)]\n"
     ]
    }
   ],
   "source": [
    "import numpy as np\n",
    "# Create a structured array with fields 'name', 'age', and 'weight'\n",
    "data_type = [('name', 'U10'), ('age', 'i4'), ('weight', 'f4')]\n",
    "data = np.array([('Alice', 25, 55.5), ('Bob', 30, 85.3), ('Charlie', 20, 65.2)], dtype=data_type)\n",
    "print(\"Original array:\")\n",
    "print(data)\n",
    "\n",
    "# Sort the array by age\n",
    "sorted_data = np.sort(data, order='age')\n",
    "print(\"Sorted array by age:\")\n",
    "print(sorted_data)"
   ]
  },
  {
   "cell_type": "markdown",
   "id": "040bd8d3",
   "metadata": {},
   "source": [
    " Create a structured array with fields 'x' and 'y' (both integers). Add some data and compute the Euclidean distance between each pair of points."
   ]
  },
  {
   "cell_type": "code",
   "execution_count": 97,
   "id": "a7546fbf",
   "metadata": {},
   "outputs": [
    {
     "name": "stdout",
     "output_type": "stream",
     "text": [
      "[(3, 4) (5, 6) (7, 8) (8, 9)]\n",
      "\n",
      "[ 5.          7.81024968 10.63014581 12.04159458]\n"
     ]
    }
   ],
   "source": [
    "data_type=[(\"X\",\"i4\"),(\"Y\",\"i4\")]\n",
    "data=np.array([\n",
    "    (3,4),(5,6),(7,8),(8,9)\n",
    "],dtype=data_type)\n",
    "\n",
    "print(data)\n",
    "print(\"\")\n",
    "\n",
    "# Compute Euclidean distance from origin\n",
    "distances = np.sqrt(data['X']**2 + data['Y']**2)\n",
    "print(distances)\n",
    "\n"
   ]
  },
  {
   "cell_type": "markdown",
   "id": "5bc36406",
   "metadata": {},
   "source": [
    "### Assignment 10: Masked Arrays\n",
    "\n",
    "1. Create a masked array of shape (4, 4) with random integers and mask the elements greater than 10. Compute the sum of the unmasked elements.\n",
    "2. "
   ]
  },
  {
   "cell_type": "code",
   "execution_count": 103,
   "id": "6330c3aa",
   "metadata": {},
   "outputs": [
    {
     "name": "stdout",
     "output_type": "stream",
     "text": [
      "[[83 41 60 56]\n",
      " [38  2 37 42]\n",
      " [91 88  6 36]\n",
      " [30 21 49 32]]\n",
      "[83 41 60 56 38 37 42 91 88 36 30 21 49 32]\n",
      "[2 6]\n",
      "8\n"
     ]
    }
   ],
   "source": [
    "masked_array=np.random.randint(100,size=(4,4))\n",
    "print(masked_array)\n",
    "\n",
    "mask=masked_array[masked_array>10]\n",
    "print(mask)\n",
    "\n",
    "unmask=masked_array[masked_array<=10]\n",
    "print(unmask)\n",
    "\n",
    "sum_unmask=unmask.sum()\n",
    "print(sum_unmask)\n"
   ]
  },
  {
   "cell_type": "markdown",
   "id": "675f36c6",
   "metadata": {},
   "source": [
    "Create a masked array of shape (3, 3) with random integers and mask the diagonal elements. Replace the masked elements with the mean of the unmasked elements"
   ]
  },
  {
   "cell_type": "code",
   "execution_count": 117,
   "id": "357a7aaf",
   "metadata": {},
   "outputs": [
    {
     "name": "stdout",
     "output_type": "stream",
     "text": [
      "Original Array:\n",
      "[[68 76 24]\n",
      " [30 26 12]\n",
      " [83 59 24]]\n",
      "\n",
      "Diagonal Elements:\n",
      "[68 26 24]\n",
      "\n",
      "Array After Subtracting Diagonal (unmask):\n",
      "[[ 0 76 24]\n",
      " [30  0 12]\n",
      " [83 59  0]]\n",
      "\n",
      "Mean of Diagonal: 39.333333333333336\n",
      "\n",
      "Final Array After Replacing Diagonal with Mean:\n",
      "[[39 76 24]\n",
      " [30 39 12]\n",
      " [83 59 39]]\n"
     ]
    }
   ],
   "source": [
    "import numpy as np\n",
    "\n",
    "arr = np.random.randint(100, size=(3, 3))\n",
    "print(\"Original Array:\")\n",
    "print(arr)\n",
    "\n",
    "print(\"\\nDiagonal Elements:\")\n",
    "diag = np.diagonal(arr)\n",
    "print(diag)\n",
    "\n",
    "# Step 1: Subtract diagonal values properly from each corresponding row/column\n",
    "# Expand diagonal to a 2D array using reshape or broadcasting\n",
    "unmask = arr - np.diag(diag)\n",
    "print(\"\\nArray After Subtracting Diagonal (unmask):\")\n",
    "print(unmask)\n",
    "\n",
    "# Step 2: Compute mean of the diagonal\n",
    "mean_diag = np.mean(diag)\n",
    "print(\"\\nMean of Diagonal:\", mean_diag)\n",
    "\n",
    "# Step 3: Replace diagonal with the mean\n",
    "np.fill_diagonal(arr, mean_diag)\n",
    "print(\"\\nFinal Array After Replacing Diagonal with Mean:\")\n",
    "print(arr)\n"
   ]
  }
 ],
 "metadata": {
  "kernelspec": {
   "display_name": "base",
   "language": "python",
   "name": "python3"
  },
  "language_info": {
   "codemirror_mode": {
    "name": "ipython",
    "version": 3
   },
   "file_extension": ".py",
   "mimetype": "text/x-python",
   "name": "python",
   "nbconvert_exporter": "python",
   "pygments_lexer": "ipython3",
   "version": "3.13.5"
  }
 },
 "nbformat": 4,
 "nbformat_minor": 5
}
